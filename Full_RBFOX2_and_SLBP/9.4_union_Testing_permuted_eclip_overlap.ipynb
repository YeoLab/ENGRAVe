{
 "cells": [
  {
   "cell_type": "code",
   "execution_count": 1,
   "id": "ef6f0c5a-e151-4a44-92b9-1d1eafe35a9a",
   "metadata": {},
   "outputs": [],
   "source": [
    "import pandas as pd\n",
    "from glob import glob\n",
    "\n",
    "shuffled_peak_with_sequence_filepaths = glob('/projects/ps-yeolab3/ekofman/Hugo/Full_RBFOX2_and_SLBP/9.4_shuffled_union_peaks/*/*with_sequence.bed')\n"
   ]
  },
  {
   "cell_type": "code",
   "execution_count": 9,
   "id": "5ad512e0-92fe-47d9-b666-8b82bd796458",
   "metadata": {},
   "outputs": [],
   "source": [
    "rbfox2_to_plot_together_label = ['unioned_cleaned_peaks']\n"
   ]
  },
  {
   "cell_type": "code",
   "execution_count": 3,
   "id": "cdbb6022-c372-49ba-9c7a-a5640fd211d7",
   "metadata": {},
   "outputs": [
    {
     "data": {
      "text/plain": [
       "100"
      ]
     },
     "execution_count": 3,
     "metadata": {},
     "output_type": "execute_result"
    }
   ],
   "source": [
    "rbfox2_shuffles = [f for f in shuffled_peak_with_sequence_filepaths if f.split('/')[-1].split('_shuffle')[0] in rbfox2_to_plot_together_label]\n",
    "len(rbfox2_shuffles)"
   ]
  },
  {
   "cell_type": "markdown",
   "id": "18a2e41d-6559-4de4-82eb-66b3f2230a94",
   "metadata": {},
   "source": [
    "# Load eCLIPs"
   ]
  },
  {
   "cell_type": "code",
   "execution_count": 28,
   "id": "ae2d37dc-ae89-42b1-94de-0b8a493229f3",
   "metadata": {},
   "outputs": [
    {
     "name": "stdout",
     "output_type": "stream",
     "text": [
      "/projects/ps-yeolab3/ekofman/Hugo/Full_RBFOX2_and_SLBP/reference/hg38_eCLIPs/RBFOX2_native_eclip.bed.annotated\n",
      "\tBefore filter: 74853\n",
      "\tAfter filter:  8750\n",
      "/projects/ps-yeolab3/ekofman/Hugo/Full_RBFOX2_and_SLBP/reference/hg38_eCLIPs/RBFOX2_CTerminus_1.bed.annotated\n",
      "\tBefore filter: 263128\n",
      "\tAfter filter:  16870\n",
      "/projects/ps-yeolab3/ekofman/Hugo/Full_RBFOX2_and_SLBP/reference/hg38_eCLIPs/RBFOX2_CTerminus_1.bed.annotated\n",
      "\tBefore filter: 263128\n",
      "\tAfter filter:  16870\n",
      "/projects/ps-yeolab3/ekofman/Hugo/Full_RBFOX2_and_SLBP/reference/hg38_eCLIPs/RBFOX2_CTerminus_1.bed.annotated\n",
      "\tBefore filter: 263128\n",
      "\tAfter filter:  12785\n",
      "/projects/ps-yeolab3/ekofman/Hugo/Full_RBFOX2_and_SLBP/reference/hg38_eCLIPs/RBFOX2_CTerminus_1.bed.annotated\n",
      "\tBefore filter: 263128\n",
      "\tAfter filter:  9864\n",
      "/projects/ps-yeolab3/ekofman/Hugo/Full_RBFOX2_and_SLBP/reference/hg38_eCLIPs/RBFOX2_CTerminus_1.bed.annotated\n",
      "\tBefore filter: 263128\n",
      "\tAfter filter:  7584\n",
      "/projects/ps-yeolab3/ekofman/Hugo/Full_RBFOX2_and_SLBP/reference/hg38_eCLIPs/RBFOX2_CTerminus_1.bed.annotated\n",
      "\tBefore filter: 263128\n",
      "\tAfter filter:  5670\n"
     ]
    }
   ],
   "source": [
    "import pybedtools\n",
    "\n",
    "def load_eclip(filepath, l2fc_threshold=2, l10p_threshold=3):\n",
    "    print(filepath)\n",
    "    eclip_df = pd.read_csv(filepath,\n",
    "                               sep='\\t'\n",
    "                               )\n",
    "\n",
    "    total_columns = len(eclip_df.columns)\n",
    "    \n",
    "    eclip_df.columns=['chrom', 'start', 'end', 'l2fc', 'l10p', 'strand'] + [i for i in range(total_columns - 6)]\n",
    "    print('\\tBefore filter:', len(eclip_df))\n",
    "\n",
    "    if 'region' in eclip_df.columns:\n",
    "        eclip_df = eclip_df[~eclip_df.region.isin([\n",
    "            'distintron500', 'proxintron500', 'distnoncoding_intron500', 'proxnoncoding_intron500', 'intergenic'\n",
    "        ])]\n",
    "        \n",
    "    eclip_df = eclip_df[(eclip_df.l2fc > l2fc_threshold) & (eclip_df.l10p > l10p_threshold)]\n",
    "    \n",
    "    eclip_df['chrom'] = [i.split('chr')[1] for i in eclip_df.chrom]\n",
    "    print('\\tAfter filter: ', len(eclip_df))\n",
    "    eclip_bed = pybedtools.BedTool.from_dataframe(eclip_df)\n",
    "\n",
    "    return eclip_bed\n",
    "\n",
    "\n",
    "overall_path = '/projects/ps-yeolab3/ekofman/Hugo/Full_RBFOX2_and_SLBP/reference/hg38_eCLIPs'\n",
    "\n",
    "rbfox2_native_path = '{}/RBFOX2_native_eclip.bed.annotated'.format(overall_path)\n",
    "rbfox2_cterm_path = '{}/RBFOX2_CTerminus_1.bed.annotated'.format(overall_path)\n",
    "\n",
    "eclips = {\n",
    "    'rbfox2_native': load_eclip(rbfox2_native_path),\n",
    "    'rbfox2_cterm': load_eclip(rbfox2_cterm_path),\n",
    "    'rbfox2_cterm_l2fc_2': load_eclip(rbfox2_cterm_path, l2fc_threshold=2),\n",
    "    'rbfox2_cterm_l2fc_4': load_eclip(rbfox2_cterm_path, l2fc_threshold=4),\n",
    "    'rbfox2_cterm_l2fc_6': load_eclip(rbfox2_cterm_path, l2fc_threshold=6),\n",
    "    'rbfox2_cterm_l2fc_8': load_eclip(rbfox2_cterm_path, l2fc_threshold=8),\n",
    "    'rbfox2_cterm_l2fc_10': load_eclip(rbfox2_cterm_path, l2fc_threshold=10)\n",
    "}"
   ]
  },
  {
   "cell_type": "markdown",
   "id": "0c58cf7e-77ef-4729-9d49-e0ced7b87938",
   "metadata": {},
   "source": [
    "# Calculate actual overlaps "
   ]
  },
  {
   "cell_type": "code",
   "execution_count": 29,
   "id": "c2bf73a7-4acd-41fc-a485-ebe7010249fa",
   "metadata": {},
   "outputs": [
    {
     "data": {
      "text/plain": [
       "['9.4_unioned_peaks/unioned_cleaned_peaks.bed']"
      ]
     },
     "execution_count": 29,
     "metadata": {},
     "output_type": "execute_result"
    }
   ],
   "source": [
    "actual_rbfox2 = [f for f in glob('9.4_unioned_peaks/*') if f.split('/')[-1].split('.bed')[0] in rbfox2_to_plot_together_label]\n",
    "actual_rbfox2"
   ]
  },
  {
   "cell_type": "code",
   "execution_count": 30,
   "id": "f8927372-97f8-4dd9-9bae-a05d25e77dd6",
   "metadata": {},
   "outputs": [],
   "source": [
    "def calculate_bed_intersection_fraction(stamp_bed, eclip_bed):\n",
    "    intersection = stamp_bed.intersect(eclip_bed, s=True, u=True)\n",
    "    fraction_overlapped_by_eclip = len(intersection)/len(stamp_bed)\n",
    "    return fraction_overlapped_by_eclip\n",
    "\n",
    "def calculate_fraction_of_eclip_overlapped(stamp_bed, eclip_bed):\n",
    "    intersection = stamp_bed.intersect(eclip_bed, s=True, u=True)\n",
    "    fraction_overlapped_by_stamp = len(intersection)/len(eclip_bed)\n",
    "    return fraction_overlapped_by_stamp"
   ]
  },
  {
   "cell_type": "code",
   "execution_count": 38,
   "id": "ca6a49d1-fcdf-492b-860e-7ceb5d0fdb75",
   "metadata": {},
   "outputs": [
    {
     "data": {
      "text/plain": [
       "{'rbfox2_native': <BedTool(/scratch/ekofman/31426606.tscc-mgr7.local/pybedtools.yi3q13na.tmp)>,\n",
       " 'rbfox2_cterm': <BedTool(/scratch/ekofman/31426606.tscc-mgr7.local/pybedtools.cc6e5kll.tmp)>,\n",
       " 'rbfox2_cterm_l2fc_2': <BedTool(/scratch/ekofman/31426606.tscc-mgr7.local/pybedtools.m80cvkc2.tmp)>,\n",
       " 'rbfox2_cterm_l2fc_4': <BedTool(/scratch/ekofman/31426606.tscc-mgr7.local/pybedtools.y29vdhvw.tmp)>,\n",
       " 'rbfox2_cterm_l2fc_6': <BedTool(/scratch/ekofman/31426606.tscc-mgr7.local/pybedtools._q7bnpmq.tmp)>,\n",
       " 'rbfox2_cterm_l2fc_8': <BedTool(/scratch/ekofman/31426606.tscc-mgr7.local/pybedtools.3opmysyg.tmp)>,\n",
       " 'rbfox2_cterm_l2fc_10': <BedTool(/scratch/ekofman/31426606.tscc-mgr7.local/pybedtools.wu22sgbc.tmp)>}"
      ]
     },
     "execution_count": 38,
     "metadata": {},
     "output_type": "execute_result"
    }
   ],
   "source": [
    "eclips"
   ]
  },
  {
   "cell_type": "code",
   "execution_count": 33,
   "id": "97ea0f30-61f5-4a66-b0d4-fc65d761b3b7",
   "metadata": {},
   "outputs": [
    {
     "name": "stdout",
     "output_type": "stream",
     "text": [
      "9.4_unioned_peaks/unioned_cleaned_peaks.bed\n",
      "11123\n",
      "\n"
     ]
    }
   ],
   "source": [
    "from collections import defaultdict\n",
    "\n",
    "rbfox2_actual_intersection_values = defaultdict(lambda:{})\n",
    "\n",
    "rbfox2_eclip_intersection_values = defaultdict(lambda:{})\n",
    "\n",
    "for rbfox2_file in actual_rbfox2:\n",
    "    print(rbfox2_file)\n",
    "    rbfox2_label = rbfox2_file.split('/')[-1].split('.bed')[0]\n",
    "    print(len(rbfox2_df))\n",
    "    #rbfox2_df = rbfox2_df[rbfox2_df.score > .9999]\n",
    "    print()\n",
    "    rbfox2_bed = pybedtools.BedTool(rbfox2_file)\n",
    "    \n",
    "    #rbfox2_bed = rbfox2_bed.slop(b=75, g='/projects/ps-yeolab3/ekofman/ReferenceData/hg38/cellranger-GRCh38-3.0.0/star/chrNameLength.txt')\n",
    "\n",
    "    for eclip_comparison in sorted(eclips.keys()):\n",
    "        \n",
    "        \n",
    "        rbfox2_actual_intersection_values[rbfox2_label][eclip_comparison] = calculate_bed_intersection_fraction(rbfox2_bed, \n",
    "                                                                                                                eclips.get(eclip_comparison))\n",
    "        \n",
    "        rbfox2_eclip_intersection_values[rbfox2_label][eclip_comparison] = calculate_fraction_of_eclip_overlapped(rbfox2_bed, \n",
    "                                                                                                                eclips.get(eclip_comparison))\n"
   ]
  },
  {
   "cell_type": "code",
   "execution_count": 34,
   "id": "9a8d949e-47ca-4595-8ff6-e91a5944d362",
   "metadata": {},
   "outputs": [
    {
     "data": {
      "text/html": [
       "<div>\n",
       "<style scoped>\n",
       "    .dataframe tbody tr th:only-of-type {\n",
       "        vertical-align: middle;\n",
       "    }\n",
       "\n",
       "    .dataframe tbody tr th {\n",
       "        vertical-align: top;\n",
       "    }\n",
       "\n",
       "    .dataframe thead th {\n",
       "        text-align: right;\n",
       "    }\n",
       "</style>\n",
       "<table border=\"1\" class=\"dataframe\">\n",
       "  <thead>\n",
       "    <tr style=\"text-align: right;\">\n",
       "      <th></th>\n",
       "      <th>unioned_cleaned_peaks</th>\n",
       "    </tr>\n",
       "  </thead>\n",
       "  <tbody>\n",
       "    <tr>\n",
       "      <th>rbfox2_cterm</th>\n",
       "      <td>0.153736</td>\n",
       "    </tr>\n",
       "    <tr>\n",
       "      <th>rbfox2_cterm_l2fc_10</th>\n",
       "      <td>0.084599</td>\n",
       "    </tr>\n",
       "    <tr>\n",
       "      <th>rbfox2_cterm_l2fc_2</th>\n",
       "      <td>0.153736</td>\n",
       "    </tr>\n",
       "    <tr>\n",
       "      <th>rbfox2_cterm_l2fc_4</th>\n",
       "      <td>0.135755</td>\n",
       "    </tr>\n",
       "    <tr>\n",
       "      <th>rbfox2_cterm_l2fc_6</th>\n",
       "      <td>0.120471</td>\n",
       "    </tr>\n",
       "    <tr>\n",
       "      <th>rbfox2_cterm_l2fc_8</th>\n",
       "      <td>0.100333</td>\n",
       "    </tr>\n",
       "    <tr>\n",
       "      <th>rbfox2_native</th>\n",
       "      <td>0.012047</td>\n",
       "    </tr>\n",
       "  </tbody>\n",
       "</table>\n",
       "</div>"
      ],
      "text/plain": [
       "                      unioned_cleaned_peaks\n",
       "rbfox2_cterm                       0.153736\n",
       "rbfox2_cterm_l2fc_10               0.084599\n",
       "rbfox2_cterm_l2fc_2                0.153736\n",
       "rbfox2_cterm_l2fc_4                0.135755\n",
       "rbfox2_cterm_l2fc_6                0.120471\n",
       "rbfox2_cterm_l2fc_8                0.100333\n",
       "rbfox2_native                      0.012047"
      ]
     },
     "execution_count": 34,
     "metadata": {},
     "output_type": "execute_result"
    }
   ],
   "source": [
    "actual_rbfox2_intersection_df = pd.DataFrame(rbfox2_actual_intersection_values)\n",
    "actual_rbfox2_intersection_df"
   ]
  },
  {
   "cell_type": "code",
   "execution_count": 35,
   "id": "cc3405cd-d406-422a-a3a5-0165ec7af452",
   "metadata": {},
   "outputs": [
    {
     "data": {
      "text/html": [
       "<div>\n",
       "<style scoped>\n",
       "    .dataframe tbody tr th:only-of-type {\n",
       "        vertical-align: middle;\n",
       "    }\n",
       "\n",
       "    .dataframe tbody tr th {\n",
       "        vertical-align: top;\n",
       "    }\n",
       "\n",
       "    .dataframe thead th {\n",
       "        text-align: right;\n",
       "    }\n",
       "</style>\n",
       "<table border=\"1\" class=\"dataframe\">\n",
       "  <thead>\n",
       "    <tr style=\"text-align: right;\">\n",
       "      <th></th>\n",
       "      <th>unioned_cleaned_peaks</th>\n",
       "    </tr>\n",
       "  </thead>\n",
       "  <tbody>\n",
       "    <tr>\n",
       "      <th>rbfox2_cterm</th>\n",
       "      <td>0.101363</td>\n",
       "    </tr>\n",
       "    <tr>\n",
       "      <th>rbfox2_cterm_l2fc_10</th>\n",
       "      <td>0.165961</td>\n",
       "    </tr>\n",
       "    <tr>\n",
       "      <th>rbfox2_cterm_l2fc_2</th>\n",
       "      <td>0.101363</td>\n",
       "    </tr>\n",
       "    <tr>\n",
       "      <th>rbfox2_cterm_l2fc_4</th>\n",
       "      <td>0.118107</td>\n",
       "    </tr>\n",
       "    <tr>\n",
       "      <th>rbfox2_cterm_l2fc_6</th>\n",
       "      <td>0.135848</td>\n",
       "    </tr>\n",
       "    <tr>\n",
       "      <th>rbfox2_cterm_l2fc_8</th>\n",
       "      <td>0.147152</td>\n",
       "    </tr>\n",
       "    <tr>\n",
       "      <th>rbfox2_native</th>\n",
       "      <td>0.015314</td>\n",
       "    </tr>\n",
       "  </tbody>\n",
       "</table>\n",
       "</div>"
      ],
      "text/plain": [
       "                      unioned_cleaned_peaks\n",
       "rbfox2_cterm                       0.101363\n",
       "rbfox2_cterm_l2fc_10               0.165961\n",
       "rbfox2_cterm_l2fc_2                0.101363\n",
       "rbfox2_cterm_l2fc_4                0.118107\n",
       "rbfox2_cterm_l2fc_6                0.135848\n",
       "rbfox2_cterm_l2fc_8                0.147152\n",
       "rbfox2_native                      0.015314"
      ]
     },
     "execution_count": 35,
     "metadata": {},
     "output_type": "execute_result"
    }
   ],
   "source": [
    "pd.DataFrame(rbfox2_eclip_intersection_values) "
   ]
  },
  {
   "cell_type": "markdown",
   "id": "4a686991-2f7c-4e37-8408-e478f4167448",
   "metadata": {},
   "source": [
    "# Shuffled overlaps"
   ]
  },
  {
   "cell_type": "code",
   "execution_count": 40,
   "id": "08e87103-ec3c-4f1c-9ae8-fc3ebb7e5c3b",
   "metadata": {},
   "outputs": [],
   "source": [
    "from collections import defaultdict \n",
    "\n",
    "overlaps_for_rbfox2_shuffles = defaultdict(lambda:defaultdict(lambda:[]))\n",
    "eclip_overlaps_for_rbfox2_shuffles = defaultdict(lambda:defaultdict(lambda:[]))\n"
   ]
  },
  {
   "cell_type": "code",
   "execution_count": 42,
   "id": "ab663b29-1d14-4def-bcf0-9015d5933883",
   "metadata": {},
   "outputs": [],
   "source": [
    "for shuffle in rbfox2_shuffles:\n",
    "    rbfox2_label = shuffle.split('/')[-2]\n",
    "    stamp_shuffle_bed = pybedtools.BedTool.from_dataframe(pd.read_csv(shuffle, sep='\\t')[['chrom', 'start', 'end', 'strand', 'strand', 'strand']])\n",
    "    \n",
    "    #stamp_shuffle_bed = stamp_shuffle_bed.slop(b=75, g='/projects/ps-yeolab3/ekofman/ReferenceData/hg38/cellranger-GRCh38-3.0.0/star/chrNameLength.txt')\n",
    "    for eclip_comparison in sorted(eclips.keys()):\n",
    "        overlaps_for_rbfox2_shuffles[rbfox2_label][eclip_comparison].append(calculate_bed_intersection_fraction(stamp_shuffle_bed,\n",
    "                                                                                                           eclips.get(eclip_comparison)))\n",
    "        eclip_overlaps_for_rbfox2_shuffles[rbfox2_label][eclip_comparison].append(calculate_fraction_of_eclip_overlapped(stamp_shuffle_bed,\n",
    "                                                                                                           eclips.get(eclip_comparison)))\n",
    "        "
   ]
  },
  {
   "cell_type": "markdown",
   "id": "7de4b548-3c25-449f-a5ef-6db1c451ed2c",
   "metadata": {},
   "source": [
    "# Plot"
   ]
  },
  {
   "cell_type": "code",
   "execution_count": 60,
   "id": "3577c1db-f3c6-4298-ac98-27ba4f729928",
   "metadata": {},
   "outputs": [
    {
     "name": "stdout",
     "output_type": "stream",
     "text": [
      "rbfox2_cterm\n",
      "rbfox2_cterm_l2fc_10\n",
      "rbfox2_cterm_l2fc_2\n",
      "rbfox2_cterm_l2fc_4\n",
      "rbfox2_cterm_l2fc_6\n",
      "rbfox2_cterm_l2fc_8\n",
      "rbfox2_native\n"
     ]
    }
   ],
   "source": [
    "\n",
    "values_list = defaultdict(lambda:[])\n",
    "\n",
    "for label, vals in eclip_overlaps_for_rbfox2_shuffles.get('unioned_cleaned_peaks.bed').items():\n",
    "    print(label)\n",
    "    values_list[label] = vals"
   ]
  },
  {
   "cell_type": "code",
   "execution_count": 62,
   "id": "bef27f8b-a3bc-45fb-9eb8-a26db7bc5ad8",
   "metadata": {},
   "outputs": [],
   "source": [
    "for k,v in rbfox2_actual_intersection_values.items():\n",
    "    rbfox2_actual_intersection_values_cleaned[k] = v"
   ]
  },
  {
   "cell_type": "code",
   "execution_count": 63,
   "id": "46ab828b-7ff3-4174-a763-72cf6e6341b2",
   "metadata": {},
   "outputs": [
    {
     "data": {
      "text/plain": [
       "defaultdict(<function __main__.<lambda>()>,\n",
       "            {'unioned_cleaned_peaks': {'rbfox2_cterm': 0.1537355030117774,\n",
       "              'rbfox2_cterm_l2fc_10': 0.084599478557943,\n",
       "              'rbfox2_cterm_l2fc_2': 0.1537355030117774,\n",
       "              'rbfox2_cterm_l2fc_4': 0.1357547424256046,\n",
       "              'rbfox2_cterm_l2fc_6': 0.12047109592735773,\n",
       "              'rbfox2_cterm_l2fc_8': 0.10033264407084419,\n",
       "              'rbfox2_native': 0.012047109592735772}})"
      ]
     },
     "execution_count": 63,
     "metadata": {},
     "output_type": "execute_result"
    }
   ],
   "source": [
    "rbfox2_actual_intersection_values"
   ]
  },
  {
   "cell_type": "code",
   "execution_count": 87,
   "id": "b07cfb59-4ade-4a08-b674-776d29d02ae8",
   "metadata": {},
   "outputs": [
    {
     "data": {
      "text/plain": [
       "dict_keys(['rbfox2_cterm', 'rbfox2_cterm_l2fc_10', 'rbfox2_cterm_l2fc_2', 'rbfox2_cterm_l2fc_4', 'rbfox2_cterm_l2fc_6', 'rbfox2_cterm_l2fc_8', 'rbfox2_native'])"
      ]
     },
     "execution_count": 87,
     "metadata": {},
     "output_type": "execute_result"
    }
   ],
   "source": [
    "rbfox2_actual_intersection_values.get('unioned_cleaned_peaks').keys()"
   ]
  },
  {
   "cell_type": "code",
   "execution_count": 88,
   "id": "8fe0401d-a83d-4822-a132-1cae26f18598",
   "metadata": {},
   "outputs": [],
   "source": [
    "ordered_labels = ['rbfox2_cterm_l2fc_2', 'rbfox2_cterm_l2fc_4', 'rbfox2_cterm_l2fc_6', 'rbfox2_cterm_l2fc_8', 'rbfox2_cterm_l2fc_10']"
   ]
  },
  {
   "cell_type": "code",
   "execution_count": 64,
   "id": "c3ea4a47-9fec-452c-abd5-dfce25e07dd3",
   "metadata": {},
   "outputs": [],
   "source": [
    "figures_directory = '/projects/ps-yeolab3/ekofman/Hugo/Full_RBFOX2_and_SLBP/Figures/RBFOX2_eclip_overlap_permutations_union/'"
   ]
  },
  {
   "cell_type": "code",
   "execution_count": 103,
   "id": "a78ec8fe-02f9-4500-87bd-db85a310b6d4",
   "metadata": {},
   "outputs": [
    {
     "name": "stdout",
     "output_type": "stream",
     "text": [
      "/projects/ps-yeolab3/ekofman/Hugo/Full_RBFOX2_and_SLBP/Figures/RBFOX2_eclip_overlap_permutations_union//Unioned\n",
      "{'rbfox2_cterm_l2fc_2': 1.6908761902878446, 'rbfox2_cterm_l2fc_4': 1.6754321727359474, 'rbfox2_cterm_l2fc_6': 1.6994077437191668, 'rbfox2_cterm_l2fc_8': 1.678145018194941, 'rbfox2_cterm_l2fc_10': 1.6792176737214035}\n"
     ]
    },
    {
     "data": {
      "image/png": "[encoded data removed]",
      "text/plain": [
       "<Figure size 504x432 with 1 Axes>"
      ]
     },
     "metadata": {},
     "output_type": "display_data"
    },
    {
     "data": {
      "image/png": "[encoded data removed]",
      "text/plain": [
       "<Figure size 360x432 with 1 Axes>"
      ]
     },
     "metadata": {},
     "output_type": "display_data"
    }
   ],
   "source": [
    "import seaborn as sns\n",
    "from matplotlib import pyplot as plt\n",
    "import numpy as np\n",
    "\n",
    "    \n",
    "labels = ordered_labels\n",
    "values = [values_list.get(l) for l in ordered_labels]\n",
    "title = 'Unioned'\n",
    "\n",
    "#print(label, '\\n\\t', category)\n",
    "filename = title.replace('-', '_').replace(' ', '_').replace(',', '')\n",
    "filename = '{}/{}'.format(figures_directory, filename)\n",
    "print(filename)\n",
    "\n",
    "custom_params = {\"axes.spines.right\": False, \"axes.spines.top\": False}\n",
    "sns.set_theme(style=\"whitegrid\", rc=custom_params, font_scale=1.5)\n",
    "\n",
    "plt.figure(figsize=(7, 6))\n",
    "\n",
    "tick_labels = labels\n",
    "range_array= [i+1 for i in range(len(labels))]\n",
    "\n",
    "a = plt.boxplot(values, vert=False, showfliers=False)\n",
    "\n",
    "\n",
    "b = plt.scatter([rbfox2_eclip_intersection_values.get('unioned_cleaned_peaks').get(l) for l in tick_labels], range_array, color='k')\n",
    "plt.xlabel(\"Fraction\")\n",
    "plt.title(\"Actual vs permuted fraction of eCLIP peaks overlapped by unioned STAMP peaks\".format(title))\n",
    "c = plt.yticks(range_array, tick_labels)\n",
    "\n",
    "\n",
    "plt.savefig('{}-box.png'.format(filename), bbox_inches='tight')\n",
    "plt.savefig('{}-box.svg'.format(filename), bbox_inches='tight')\n",
    "\n",
    "motif_odds_ratios = {}\n",
    "for label, peak_set in zip(labels, values):\n",
    "    permuted_val = np.mean(peak_set)\n",
    "    actual_val = rbfox2_eclip_intersection_values.get('unioned_cleaned_peaks').get(label)\n",
    "\n",
    "    motif_odds_ratios[label] = actual_val/permuted_val\n",
    "\n",
    "ordered_motif_ors = []\n",
    "for o in tick_labels:\n",
    "    ordered_motif_ors.append(motif_odds_ratios.get(o))\n",
    "\n",
    "plt.figure(figsize=(5, 6))\n",
    "plt.barh(tick_labels, ordered_motif_ors, color='k')\n",
    "\n",
    "min_val = np.min(ordered_motif_ors)\n",
    "max_val = np.max(ordered_motif_ors)\n",
    "\n",
    "plt.xlim(min_val - 0.1, max_val + 0.1)\n",
    "plt.title(\"Enrichment\")\n",
    "\n",
    "print(motif_odds_ratios)\n",
    "plt.savefig('{}-enrich.png'.format(filename), bbox_inches='tight')\n",
    "plt.savefig('{}-enrich.svg'.format(filename), bbox_inches='tight')\n"
   ]
  },
  {
   "cell_type": "code",
   "execution_count": null,
   "id": "6cc2bc8a-0760-4682-bec3-d74992e0735f",
   "metadata": {},
   "outputs": [],
   "source": []
  }
 ],
 "metadata": {
  "kernelspec": {
   "display_name": "new_anaconda3",
   "language": "python",
   "name": "new_anaconda3"
  },
  "language_info": {
   "codemirror_mode": {
    "name": "ipython",
    "version": 3
   },
   "file_extension": ".py",
   "mimetype": "text/x-python",
   "name": "python",
   "nbconvert_exporter": "python",
   "pygments_lexer": "ipython3",
   "version": "3.7.4"
  }
 },
 "nbformat": 4,
 "nbformat_minor": 5
}
