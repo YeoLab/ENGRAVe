{
 "cells": [
  {
   "cell_type": "code",
   "execution_count": 1,
   "id": "ab1c9c07-af07-4332-b91a-275d70c1cf6c",
   "metadata": {},
   "outputs": [],
   "source": [
    "import pandas as pd\n",
    "from glob import glob\n",
    "import pybedtools\n",
    "from collections import defaultdict"
   ]
  },
  {
   "cell_type": "code",
   "execution_count": 2,
   "id": "d9f451a1-0959-4c22-bdf3-2a48bb236e93",
   "metadata": {},
   "outputs": [],
   "source": [
    "figures_directory = '/projects/ps-yeolab3/ekofman/Hugo/Full_RBFOX2_and_SLBP/Figures/RBFOX2_motif_permutations_union/'"
   ]
  },
  {
   "cell_type": "markdown",
   "id": "dcad8830-80bc-4b6c-8049-61ca67c0ebef",
   "metadata": {},
   "source": [
    "# shuffles of eCLIP peaks -- fraction overlapped by STAMP peaks"
   ]
  },
  {
   "cell_type": "markdown",
   "id": "ac4cd0a9-47be-4801-a23e-fc002a327767",
   "metadata": {},
   "source": [
    "# Load STAMP peaks"
   ]
  },
  {
   "cell_type": "raw",
   "id": "5bc1878f-6f33-4910-8ba9-27195f8ed2cf",
   "metadata": {
    "tags": []
   },
   "source": [
    "import pandas as pd\n",
    "import pybedtools\n",
    "\n",
    "stamp_file_bedtools = {}\n",
    "stamp_file_dfs = {}\n",
    "for s in sorted(stamp_files):\n",
    "    print(s)\n",
    "    description = s.split('/')[-1]\n",
    "    print('\\t', description)\n",
    "\n",
    "    stamp_file_df = pd.read_csv(s, sep='\\t', index_col=0)\n",
    "\n",
    "    stamp_file_dfs[description] = stamp_file_df[['chrom', 'start', 'end', 'strand']]\n",
    "    stamp_file_bedtools[description] = pybedtools.BedTool.from_dataframe(stamp_file_df[['chrom', 'start', 'end', 'strand', 'strand', 'strand']])"
   ]
  },
  {
   "cell_type": "markdown",
   "id": "be375684-9656-4166-955e-e2e82eb8aaac",
   "metadata": {},
   "source": [
    "# load shuffled stamp peaks"
   ]
  },
  {
   "cell_type": "code",
   "execution_count": 3,
   "id": "1e0db65e-d013-41c6-a3fd-545343794889",
   "metadata": {},
   "outputs": [],
   "source": [
    "shuffled_peak_with_sequence_filepaths = glob('/projects/ps-yeolab3/ekofman/Hugo/Full_RBFOX2_and_SLBP/9.4_shuffled_union_peaks/*/*with_sequence.bed')\n",
    "\n"
   ]
  },
  {
   "cell_type": "code",
   "execution_count": 4,
   "id": "6aed3ca4-0b5c-49ed-9e17-7534f9429e11",
   "metadata": {
    "scrolled": true,
    "tags": []
   },
   "outputs": [
    {
     "data": {
      "text/plain": [
       "100"
      ]
     },
     "execution_count": 4,
     "metadata": {},
     "output_type": "execute_result"
    }
   ],
   "source": [
    "len(shuffled_peak_with_sequence_filepaths)"
   ]
  },
  {
   "cell_type": "markdown",
   "id": "2f00bca5-aeeb-4bc1-bd8c-b784ed745585",
   "metadata": {},
   "source": [
    "# Compare permuted fraction for motif"
   ]
  },
  {
   "cell_type": "code",
   "execution_count": 6,
   "id": "6a9c6bbd-2ddf-4859-8fbb-750b1cda256a",
   "metadata": {},
   "outputs": [],
   "source": [
    "permuted_fractions = pd.read_csv('9.4_shuffled_union_peaks/FOX_cleaned_motif_presence_in_union_shuffles.tsv', sep='\\t', index_col=0)\n",
    "permuted_fractions_cleaned = pd.read_csv('9.4_shuffled_union_peaks/FOX_cleaned_motif_presence_in_union_shuffles.tsv', sep='\\t', index_col=0)\n",
    "\n",
    "permuted_fractions = pd.concat([permuted_fractions, permuted_fractions_cleaned], axis=1)"
   ]
  },
  {
   "cell_type": "code",
   "execution_count": 7,
   "id": "4b81f487-fc28-4b98-a1ef-020c97787082",
   "metadata": {},
   "outputs": [],
   "source": [
    "peak_set_to_motif_presence = defaultdict(lambda:[])\n",
    "for l, v in permuted_fractions.loc['TGCATG'].items():\n",
    "    #print(l, v)\n",
    "    main_category = l.split('_shuffle')[0]\n",
    "    peak_set_to_motif_presence[main_category].append(v)"
   ]
  },
  {
   "cell_type": "code",
   "execution_count": 8,
   "id": "73e25ac6-2033-453b-8f84-4ca03be9cbc6",
   "metadata": {
    "scrolled": true,
    "tags": []
   },
   "outputs": [
    {
     "data": {
      "text/plain": [
       "defaultdict(<function __main__.<lambda>()>,\n",
       "            {'unioned_cleaned_peaks.bed': [0.046444384205295,\n",
       "              0.0402096322399927,\n",
       "              0.0448179271708683,\n",
       "              0.0423782416192283,\n",
       "              0.0409325020330712,\n",
       "              0.044004698653655,\n",
       "              0.0407517845848016,\n",
       "              0.0437336224812505,\n",
       "              0.0428300352399024,\n",
       "              0.042016806722689,\n",
       "              0.0453600795156772,\n",
       "              0.0438239812053853,\n",
       "              0.0416553718261498,\n",
       "              0.0406614258606668,\n",
       "              0.0460829493087557,\n",
       "              0.0438239812053853,\n",
       "              0.0465347429294298,\n",
       "              0.0445468509984639,\n",
       "              0.0419264479985542,\n",
       "              0.0447275684467335,\n",
       "              0.0421071654468238,\n",
       "              0.0443661335501942,\n",
       "              0.0445468509984639,\n",
       "              0.0457215144122165,\n",
       "              0.0401192735158579,\n",
       "              0.0431011114123068,\n",
       "              0.0434625463088461,\n",
       "              0.0433721875847113,\n",
       "              0.044004698653655,\n",
       "              0.0441854161019246,\n",
       "              0.0451793620674076,\n",
       "              0.0440950573777898,\n",
       "              0.0428300352399024,\n",
       "              0.0431011114123068,\n",
       "              0.0422878828950935,\n",
       "              0.0461733080328905,\n",
       "              0.0447275684467335,\n",
       "              0.0448179271708683,\n",
       "              0.0417457305502846,\n",
       "              0.0429203939640372,\n",
       "              0.0414746543778801,\n",
       "              0.0429203939640372,\n",
       "              0.044004698653655,\n",
       "              0.0458118731363513,\n",
       "              0.0442757748260594,\n",
       "              0.0449986446191379,\n",
       "              0.0396674798951838,\n",
       "              0.0447275684467335,\n",
       "              0.0392156862745098,\n",
       "              0.0445468509984639,\n",
       "              0.0449082858950031,\n",
       "              0.043010752688172,\n",
       "              0.0440950573777898,\n",
       "              0.0441854161019246,\n",
       "              0.0393964037227794,\n",
       "              0.0411132194813409,\n",
       "              0.0452697207915424,\n",
       "              0.0446372097225987,\n",
       "              0.0419264479985542,\n",
       "              0.0439143399295201,\n",
       "              0.0441854161019246,\n",
       "              0.0423782416192283,\n",
       "              0.041565013102015,\n",
       "              0.0423782416192283,\n",
       "              0.0421975241709587,\n",
       "              0.0438239812053853,\n",
       "              0.0457215144122165,\n",
       "              0.0445468509984639,\n",
       "              0.0425589590674979,\n",
       "              0.0428300352399024,\n",
       "              0.0445468509984639,\n",
       "              0.0459022318604861,\n",
       "              0.0406614258606668,\n",
       "              0.0429203939640372,\n",
       "              0.0419264479985542,\n",
       "              0.0451793620674076,\n",
       "              0.0439143399295201,\n",
       "              0.0428300352399024,\n",
       "              0.0418360892744194,\n",
       "              0.0441854161019246,\n",
       "              0.0456311556880816,\n",
       "              0.0446372097225987,\n",
       "              0.042016806722689,\n",
       "              0.0422878828950935,\n",
       "              0.0402096322399927,\n",
       "              0.0440950573777898,\n",
       "              0.0413842956537453,\n",
       "              0.0428300352399024,\n",
       "              0.0417457305502846,\n",
       "              0.0419264479985542,\n",
       "              0.0441854161019246,\n",
       "              0.0427396765157676,\n",
       "              0.0438239812053853,\n",
       "              0.0418360892744194,\n",
       "              0.0449986446191379,\n",
       "              0.0416553718261498,\n",
       "              0.0433721875847113,\n",
       "              0.0449986446191379,\n",
       "              0.0432818288605764,\n",
       "              0.0441854161019246,\n",
       "              0.046444384205295,\n",
       "              0.0402096322399927,\n",
       "              0.0448179271708683,\n",
       "              0.0423782416192283,\n",
       "              0.0409325020330712,\n",
       "              0.044004698653655,\n",
       "              0.0407517845848016,\n",
       "              0.0437336224812505,\n",
       "              0.0428300352399024,\n",
       "              0.042016806722689,\n",
       "              0.0453600795156772,\n",
       "              0.0438239812053853,\n",
       "              0.0416553718261498,\n",
       "              0.0406614258606668,\n",
       "              0.0460829493087557,\n",
       "              0.0438239812053853,\n",
       "              0.0465347429294298,\n",
       "              0.0445468509984639,\n",
       "              0.0419264479985542,\n",
       "              0.0447275684467335,\n",
       "              0.0421071654468238,\n",
       "              0.0443661335501942,\n",
       "              0.0445468509984639,\n",
       "              0.0457215144122165,\n",
       "              0.0401192735158579,\n",
       "              0.0431011114123068,\n",
       "              0.0434625463088461,\n",
       "              0.0433721875847113,\n",
       "              0.044004698653655,\n",
       "              0.0441854161019246,\n",
       "              0.0451793620674076,\n",
       "              0.0440950573777898,\n",
       "              0.0428300352399024,\n",
       "              0.0431011114123068,\n",
       "              0.0422878828950935,\n",
       "              0.0461733080328905,\n",
       "              0.0447275684467335,\n",
       "              0.0448179271708683,\n",
       "              0.0417457305502846,\n",
       "              0.0429203939640372,\n",
       "              0.0414746543778801,\n",
       "              0.0429203939640372,\n",
       "              0.044004698653655,\n",
       "              0.0458118731363513,\n",
       "              0.0442757748260594,\n",
       "              0.0449986446191379,\n",
       "              0.0396674798951838,\n",
       "              0.0447275684467335,\n",
       "              0.0392156862745098,\n",
       "              0.0445468509984639,\n",
       "              0.0449082858950031,\n",
       "              0.043010752688172,\n",
       "              0.0440950573777898,\n",
       "              0.0441854161019246,\n",
       "              0.0393964037227794,\n",
       "              0.0411132194813409,\n",
       "              0.0452697207915424,\n",
       "              0.0446372097225987,\n",
       "              0.0419264479985542,\n",
       "              0.0439143399295201,\n",
       "              0.0441854161019246,\n",
       "              0.0423782416192283,\n",
       "              0.041565013102015,\n",
       "              0.0423782416192283,\n",
       "              0.0421975241709587,\n",
       "              0.0438239812053853,\n",
       "              0.0457215144122165,\n",
       "              0.0445468509984639,\n",
       "              0.0425589590674979,\n",
       "              0.0428300352399024,\n",
       "              0.0445468509984639,\n",
       "              0.0459022318604861,\n",
       "              0.0406614258606668,\n",
       "              0.0429203939640372,\n",
       "              0.0419264479985542,\n",
       "              0.0451793620674076,\n",
       "              0.0439143399295201,\n",
       "              0.0428300352399024,\n",
       "              0.0418360892744194,\n",
       "              0.0441854161019246,\n",
       "              0.0456311556880816,\n",
       "              0.0446372097225987,\n",
       "              0.042016806722689,\n",
       "              0.0422878828950935,\n",
       "              0.0402096322399927,\n",
       "              0.0440950573777898,\n",
       "              0.0413842956537453,\n",
       "              0.0428300352399024,\n",
       "              0.0417457305502846,\n",
       "              0.0419264479985542,\n",
       "              0.0441854161019246,\n",
       "              0.0427396765157676,\n",
       "              0.0438239812053853,\n",
       "              0.0418360892744194,\n",
       "              0.0449986446191379,\n",
       "              0.0416553718261498,\n",
       "              0.0433721875847113,\n",
       "              0.0449986446191379,\n",
       "              0.0432818288605764,\n",
       "              0.0441854161019246]})"
      ]
     },
     "execution_count": 8,
     "metadata": {},
     "output_type": "execute_result"
    }
   ],
   "source": [
    "peak_set_to_motif_presence"
   ]
  },
  {
   "cell_type": "markdown",
   "id": "d43d7f7f-775b-49e9-8d61-67c5bd7431ed",
   "metadata": {},
   "source": [
    "### Find actual fraction with motif"
   ]
  },
  {
   "cell_type": "code",
   "execution_count": 11,
   "id": "cd717429-951a-4ee3-ad17-0c9fab722c22",
   "metadata": {},
   "outputs": [],
   "source": [
    "from pyfaidx import Fasta\n",
    "import re\n",
    "fasta = '/projects/ps-yeolab3/ekofman/ReferenceData/hg38/cellranger-GRCh38-3.0.0/fasta/genome.fa'\n",
    "FA = Fasta(fasta, rebuild=False)\n",
    "import math\n",
    "\n",
    "def get_sequence(r): \n",
    "    chrom = str(r.chrom)\n",
    "    start = r.start\n",
    "    end = r.end\n",
    "    strand = r.strand\n",
    "    \n",
    "    sequence = FA[chrom][start:end].seq\n",
    "    sequence = sequence.upper()\n",
    "        \n",
    "    return sequence\n",
    "\n",
    "def get_extended_sequence(r): \n",
    "    chrom = str(r.chrom)\n",
    "    \n",
    "    midpoint = r.start + (int((r.end - r.start)/2))\n",
    "    start = midpoint - 400\n",
    "    end = midpoint + 400\n",
    "    strand = r.strand\n",
    "    \n",
    "    sequence = FA[chrom][start:end].seq\n",
    "    sequence = sequence.upper()\n",
    "        \n",
    "    return sequence\n",
    "\n",
    "complement = {'A': 'T', 'C': 'G', 'G': 'C', 'T': 'A'}\n",
    "def reverse_complement(seq):\n",
    "    return \"\".join(complement.get(base, base) for base in reversed(seq))\n",
    "\n",
    "def reverse(seq):\n",
    "    return seq[::-1]\n",
    "\n",
    "def motif_present(sequence, motif, strand):\n",
    "    if strand == '+':\n",
    "        return motif in sequence\n",
    "    elif strand == '-':\n",
    "        return reverse_complement(motif) in sequence\n",
    "\n",
    "def motif_distance_from_center(sequence, motif, strand):\n",
    "    #print(sequence)\n",
    "    if strand == '+':\n",
    "        search_term = motif\n",
    "    elif strand == '-':\n",
    "        search_term = reverse_complement(motif)\n",
    "    else:\n",
    "        search_term = motif\n",
    "        \n",
    "    if search_term in sequence:\n",
    "        closest_position_in_first_half = 1000\n",
    "        closest_position_in_second_half = 1000\n",
    "        \n",
    "        midpoint = math.ceil(len(sequence)/2)\n",
    "        #print('\\tmidpoint is {}'.format(midpoint))\n",
    "        start_of_second_half = midpoint-len(motif)\n",
    "\n",
    "        sequence_first_half = sequence[0:midpoint]\n",
    "        sequence_second_half = sequence[start_of_second_half:]\n",
    "\n",
    "        #print('\\tSplit:', sequence_first_half, sequence_second_half)\n",
    "        if search_term in sequence_first_half:\n",
    "            flipped_sequence = reverse(sequence_first_half)\n",
    "            flipped_search_term = reverse(search_term)\n",
    "            \n",
    "            #print('searching for {} in {}'.format(flipped_search_term, flipped_sequence))\n",
    "            closest_position_in_first_half = - flipped_sequence.index(flipped_search_term) - math.floor(len(motif)/2)\n",
    "            \n",
    "        if search_term in sequence_second_half:\n",
    "            closest_position_in_second_half = sequence_second_half.index(search_term) - math.floor(len(motif)/2)\n",
    "\n",
    "        #print([closest_position_in_first_half, closest_position_in_second_half])\n",
    "        if min(abs(closest_position_in_second_half), abs(closest_position_in_first_half)) == abs(closest_position_in_second_half):\n",
    "            return closest_position_in_second_half\n",
    "        else:\n",
    "            return closest_position_in_first_half\n",
    "    else:\n",
    "        return None\n",
    "    \n",
    "motifs = ['TGCATG', 'GAATG', 'GTTTG', 'GTGTG', 'GTATG', 'GCTTG', 'GCCTG']\n",
    "\n",
    "def add_sequence_presences(r, window_size=70):\n",
    "    extended_sequence = r['extended_sequence(+)']\n",
    "    strand = r.strand\n",
    "\n",
    "    distance_tgcatg = motif_distance_from_center(extended_sequence, 'TGCATG', strand)\n",
    "    distance_gcatg = motif_distance_from_center(extended_sequence, 'GCATG', strand)\n",
    "    distance_gaatg = motif_distance_from_center(extended_sequence, 'TGAATG', strand)\n",
    "    distance_gtttg = motif_distance_from_center(extended_sequence, 'TGAATG', strand)\n",
    "    distance_gtgtg = motif_distance_from_center(extended_sequence, 'TGTGTG', strand)\n",
    "    distance_gtatg = motif_distance_from_center(extended_sequence, 'TGTATG', strand)\n",
    "    distance_gcttg = motif_distance_from_center(extended_sequence, 'TGCTTG', strand)\n",
    "    distance_gcctg = motif_distance_from_center(extended_sequence, 'TGCCTG', strand)\n",
    "\n",
    "\n",
    "    sequence = r['sequence(+)']\n",
    "\n",
    "    presence_map = {motif: motif_present(sequence, motif, strand) for motif in motifs}\n",
    "    return presence_map.get(motifs[0]), presence_map.get(motifs[1]), presence_map.get(motifs[2]), presence_map.get(motifs[3]), presence_map.get(motifs[4]), presence_map.get(motifs[5]), presence_map.get(motifs[6]), distance_tgcatg, distance_gcatg,distance_gaatg,distance_gtttg,distance_gtgtg,distance_gtatg,distance_gcttg,distance_gcctg\n",
    "\n",
    "\n",
    "def calculate_fractions(p_df):\n",
    "    fractions_dict = {}\n",
    "    counts_dict = {}\n",
    "    \n",
    "    for motif in motifs + ['any_motif']:\n",
    "        motif_present_count = p_df[motif].sum()\n",
    "        motif_present_fraction = motif_present_count/len(p_df)\n",
    "        fractions_dict[motif] = motif_present_fraction\n",
    "        counts_dict[motif] = motif_present_count\n",
    "    \n",
    "    return fractions_dict, counts_dict"
   ]
  },
  {
   "cell_type": "code",
   "execution_count": 22,
   "id": "b710e803-38dd-4e12-a9f7-5b2ce84e038a",
   "metadata": {
    "scrolled": true,
    "tags": []
   },
   "outputs": [
    {
     "name": "stdout",
     "output_type": "stream",
     "text": [
      "9.4_unioned_peaks/unioned_cleaned_peaks.bed\n",
      "\t unioned_cleaned_peaks\n"
     ]
    }
   ],
   "source": [
    "peak_filepaths = sorted(glob('9.4_unioned_peaks/*.bed'))\n",
    "\n",
    "stamp_file_dfs = {}\n",
    "\n",
    "for peak_filepath in peak_filepaths:    \n",
    "    print(peak_filepath)\n",
    "    file_id = peak_filepath.split('/')[-1].split('.bed')[0]\n",
    "    if 'SLBP' not in file_id:\n",
    "        print('\\t', file_id)\n",
    "        stamp_file_dfs[file_id] = pd.read_csv(peak_filepath, sep='\\t', \n",
    "                                              names=['chrom', 'start', 'end', 'enzyme', 'symbol', 'strand']\n",
    "                                             )"
   ]
  },
  {
   "cell_type": "code",
   "execution_count": 24,
   "id": "edfd84ed-50bc-4182-8741-db57528ca879",
   "metadata": {},
   "outputs": [],
   "source": [
    "motifs = ['TGCATG', 'GAATG', 'GTTTG', 'GTGTG', 'GTATG', 'GCTTG', 'GCCTG']\n"
   ]
  },
  {
   "cell_type": "code",
   "execution_count": 25,
   "id": "20e1412d-861a-4ba4-8ebd-1af2c07cfa8c",
   "metadata": {
    "scrolled": true,
    "tags": []
   },
   "outputs": [
    {
     "name": "stdout",
     "output_type": "stream",
     "text": [
      "unioned_cleaned_peaks\n",
      "\t 11123\n",
      "Checking TGCATG\n",
      "Checking GAATG\n",
      "Checking GTTTG\n",
      "Checking GTGTG\n",
      "Checking GTATG\n",
      "Checking GCTTG\n",
      "Checking GCCTG\n",
      "Checking any_motif\n"
     ]
    }
   ],
   "source": [
    "from collections import defaultdict\n",
    "\n",
    "actual_motif_fractions = defaultdict(lambda:{})\n",
    "dfs_with_motif_info = {}\n",
    "for label,df in stamp_file_dfs.items():\n",
    "    print(label)\n",
    "    print('\\t', len(df))\n",
    "    df['sequence(+)'] = df.apply(get_sequence, axis=1)\n",
    "    df['extended_sequence(+)'] = df.apply(get_extended_sequence, axis=1)\n",
    "\n",
    "    df[motifs[0]],df[motifs[1]],df[motifs[2]],df[motifs[3]],df[motifs[4]],df[motifs[5]],df[motifs[6]],df['TGCATG_dist_from_center'], df['GCATG_dist_from_center'],df['GAATG_dist_from_center'], df['GTTTG_dist_from_center'],df['GTGTG_dist_from_center'],df['GTATG_dist_from_center'], df['GCTTG_dist_from_center'],df['GCCTG_dist_from_center'] = zip(*df.apply(add_sequence_presences, axis=1))\n",
    "\n",
    "    df['any_motif'] = df[[motifs[0], motifs[1], motifs[2], motifs[3], motifs[4], motifs[5], motifs[6]]].any(axis=1)\n",
    "    dfs_with_motif_info[label] = df\n",
    "    \n",
    "    for motif in motifs + ['any_motif']:\n",
    "        print('Checking {}'.format(motif))\n",
    "        actual_motif_fractions[label][motif] = len(df[df[motif] == True])/len(df)"
   ]
  },
  {
   "cell_type": "code",
   "execution_count": 29,
   "id": "89dca184-3bbc-45bb-a6e4-f8e28d7e76e1",
   "metadata": {},
   "outputs": [],
   "source": [
    "# plot options\n",
    "peak_union = ['unioned_cleaned_peaks.bed']"
   ]
  },
  {
   "cell_type": "code",
   "execution_count": 32,
   "id": "2c622e8a-207c-4447-ba0f-98f9a47a0592",
   "metadata": {},
   "outputs": [],
   "source": [
    "actual_motif_fractions['unioned_cleaned_peaks.bed'] = actual_motif_fractions['unioned_cleaned_peaks']"
   ]
  },
  {
   "cell_type": "code",
   "execution_count": 33,
   "id": "ddfab2d0-155c-47bb-9cf8-f3aaaaafbdfc",
   "metadata": {},
   "outputs": [
    {
     "name": "stdout",
     "output_type": "stream",
     "text": [
      "peak_union\n",
      "\t /projects/ps-yeolab3/ekofman/Hugo/Full_RBFOX2_and_SLBP/Figures/RBFOX2_motif_permutations_union//stamp_peak_tgcatg_motif_permutation-peak_union\n",
      "unioned_cleaned_peaks.bed 0.0\n"
     ]
    },
    {
     "data": {
      "image/png": "[encoded data removed]",
      "text/plain": [
       "<Figure size 504x432 with 1 Axes>"
      ]
     },
     "metadata": {},
     "output_type": "display_data"
    },
    {
     "data": {
      "image/png": "[encoded data removed]",
      "text/plain": [
       "<Figure size 360x432 with 1 Axes>"
      ]
     },
     "metadata": {},
     "output_type": "display_data"
    }
   ],
   "source": [
    "from matplotlib import pyplot as plt\n",
    "import matplotlib\n",
    "import numpy as np\n",
    "import seaborn as sns\n",
    "\n",
    "custom_params = {\"axes.spines.right\": False, \"axes.spines.top\": False}\n",
    "sns.set_theme(style=\"whitegrid\", rc=custom_params, font_scale=1.5)\n",
    "\n",
    "label_options = [peak_union]\n",
    "\n",
    "title_base = 'stamp_peak_tgcatg_motif_permutation-'\n",
    "title_options = ['peak_union']\n",
    "\n",
    "\n",
    "for labels_subset, title_suffix in zip(label_options, title_options):\n",
    "    print(title_suffix)\n",
    "    \n",
    "    for l in labels_subset:\n",
    "        assert(l in peak_set_to_motif_presence.keys())\n",
    "\n",
    "\n",
    "    # Plot boxplots\n",
    "    plt.figure(figsize=(7, 6))\n",
    "\n",
    "    a = plt.boxplot([peak_set_to_motif_presence.get(l) for l in labels_subset]\n",
    "                    , vert=False, showfliers=False)\n",
    "\n",
    "    range_array= [i+1 for i in range(len(labels_subset))]\n",
    "\n",
    "    b = plt.scatter([actual_motif_fractions.get(l).get('TGCATG') for l in labels_subset], range_array, color='k')\n",
    "    plt.xlabel(\"Fraction\")\n",
    "    plt.title(\"Actual vs permuted fraction of STAMP peaks with TGCATG motif\")\n",
    "    c = plt.yticks(range_array, labels_subset)\n",
    "\n",
    "    filename = '{}/{}{}'.format(figures_directory, title_base, title_suffix)\n",
    "    print('\\t', filename)\n",
    "    plt.savefig('{}-box.png'.format(filename), bbox_inches='tight')\n",
    "    plt.savefig('{}-box.svg'.format(filename), bbox_inches='tight')\n",
    "\n",
    "\n",
    "    # Plot enrichment\n",
    "\n",
    "    tick_list = labels_subset\n",
    "\n",
    "    motif_odds_ratios = {}\n",
    "    for k in peak_set_to_motif_presence.keys():\n",
    "\n",
    "        permuted_val = np.mean(peak_set_to_motif_presence.get(k))\n",
    "        actual_val = actual_motif_fractions.get(k).get('TGCATG')\n",
    "        \n",
    "        num_exceeding_actual = [v for v in peak_set_to_motif_presence.get(k) if v > actual_val]\n",
    "        pval = len(num_exceeding_actual)/len(peak_set_to_motif_presence.get(k))\n",
    "        print(k, pval)\n",
    "        motif_odds_ratios[k] = actual_val/permuted_val\n",
    "\n",
    "    ordered_motif_ors = []\n",
    "    for o in tick_list:\n",
    "        ordered_motif_ors.append(motif_odds_ratios.get(o))\n",
    "\n",
    "    min_odds_ratio = np.min(ordered_motif_ors)\n",
    "    max_odds_ratio = np.max(ordered_motif_ors)\n",
    "    \n",
    "    plt.figure(figsize=(5, 6))\n",
    "    plt.barh(tick_list, ordered_motif_ors, color='k')\n",
    "    plt.xlim(min_odds_ratio-0.1,max_odds_ratio+0.1)\n",
    "    plt.title(\"Enrichment\")\n",
    "    \n",
    "    plt.savefig('{}-enrich.png'.format(filename), bbox_inches='tight')\n",
    "    plt.savefig('{}-enrich.svg'.format(filename), bbox_inches='tight')"
   ]
  },
  {
   "cell_type": "markdown",
   "id": "e05da2dc-98dc-47c9-ba84-7febab00d297",
   "metadata": {},
   "source": [
    "# Distance from center of GCATG motif"
   ]
  },
  {
   "cell_type": "code",
   "execution_count": 34,
   "id": "29033e14-0283-41b6-a58a-ebb7312f7bf2",
   "metadata": {
    "tags": []
   },
   "outputs": [
    {
     "ename": "NameError",
     "evalue": "name 'to_plot_together_label' is not defined",
     "output_type": "error",
     "traceback": [
      "\u001b[0;31m---------------------------------------------------------------------------\u001b[0m",
      "\u001b[0;31mNameError\u001b[0m                                 Traceback (most recent call last)",
      "\u001b[0;32m<ipython-input-34-9bf89e92fca9>\u001b[0m in \u001b[0;36m<module>\u001b[0;34m\u001b[0m\n\u001b[1;32m      2\u001b[0m \u001b[0;34m\u001b[0m\u001b[0m\n\u001b[1;32m      3\u001b[0m \u001b[0;34m\u001b[0m\u001b[0m\n\u001b[0;32m----> 4\u001b[0;31m \u001b[0;32mfor\u001b[0m \u001b[0mexperiment\u001b[0m \u001b[0;32min\u001b[0m \u001b[0mto_plot_together_label\u001b[0m\u001b[0;34m:\u001b[0m\u001b[0;34m\u001b[0m\u001b[0;34m\u001b[0m\u001b[0m\n\u001b[0m\u001b[1;32m      5\u001b[0m     \u001b[0mprint\u001b[0m\u001b[0;34m(\u001b[0m\u001b[0mexperiment\u001b[0m\u001b[0;34m)\u001b[0m\u001b[0;34m\u001b[0m\u001b[0;34m\u001b[0m\u001b[0m\n\u001b[1;32m      6\u001b[0m     \u001b[0mdf\u001b[0m \u001b[0;34m=\u001b[0m \u001b[0mdfs_with_motif_info\u001b[0m\u001b[0;34m.\u001b[0m\u001b[0mget\u001b[0m\u001b[0;34m(\u001b[0m\u001b[0mexperiment\u001b[0m\u001b[0;34m)\u001b[0m\u001b[0;34m\u001b[0m\u001b[0;34m\u001b[0m\u001b[0m\n",
      "\u001b[0;31mNameError\u001b[0m: name 'to_plot_together_label' is not defined"
     ]
    }
   ],
   "source": [
    "to_plot_together = {}\n",
    "\n",
    "\n",
    "for experiment in to_plot_together_label:\n",
    "    print(experiment)\n",
    "    df = dfs_with_motif_info.get(experiment)\n",
    "    df_with_dists = df[~df.TGCATG_dist_from_center.isna()]\n",
    "    \n",
    "    to_plot_together[experiment] = df_with_dists\n",
    "        \n",
    "    #c = plt.figure()\n",
    "    #b = sns.distplot(df_with_dists.TGCATG_dist_from_center, bins=50)\n",
    "    #a = plt.title('{} Distribution of Closest TGCATG motif distance from center'.format(experiment))\n",
    "\n",
    "distance_columns = [c for c in list(df.columns[-9:]) if 'dist' in c]\n",
    "\n",
    "for c in distance_columns:\n",
    "    legend = []\n",
    "    plt.figure(figsize=(14, 10))\n",
    "    for label, df in to_plot_together.items():\n",
    "        legend.append(label)\n",
    "        plt.xlim(-350, 350)\n",
    "        g = sns.distplot(df[c], hist=False, kde_kws=dict(linewidth=5))\n",
    "    g.set(yticklabels=[])\n",
    "    plt.legend(legend)\n",
    "    motif_label = c.split('_')[0]\n",
    "    plt.xlabel(\"Distance from peak center to closest instance of {}\".format(motif_label))\n",
    "    plt.ylabel(\"Density\")\n",
    "    plt.title(\"Distribution of distance to closest {} across peak sets\".format(motif_label))\n",
    "    #plt.savefig('/projects/ps-yeolab3/ekofman/Hugo/Full_RBFOX2_and_SLBP/Figures/RBFOX2_motif_distance_to_center/{}_distance_to_center.png'.format(motif_label), bbox_inches='tight')\n",
    "    #plt.savefig('/projects/ps-yeolab3/ekofman/Hugo/Full_RBFOX2_and_SLBP/Figures/RBFOX2_motif_distance_to_center/{}_distance_to_center.svg'.format(motif_label),bbox_inches='tight')\n",
    "\n",
    "    break"
   ]
  },
  {
   "cell_type": "code",
   "execution_count": null,
   "id": "76c98b2b-08aa-4d6a-8bbe-725cbd671f8d",
   "metadata": {},
   "outputs": [],
   "source": []
  },
  {
   "cell_type": "code",
   "execution_count": null,
   "id": "558807f4-b759-4769-ae87-2adf8a2a4ff1",
   "metadata": {},
   "outputs": [],
   "source": []
  }
 ],
 "metadata": {
  "kernelspec": {
   "display_name": "new_anaconda3",
   "language": "python",
   "name": "new_anaconda3"
  },
  "language_info": {
   "codemirror_mode": {
    "name": "ipython",
    "version": 3
   },
   "file_extension": ".py",
   "mimetype": "text/x-python",
   "name": "python",
   "nbconvert_exporter": "python",
   "pygments_lexer": "ipython3",
   "version": "3.7.4"
  }
 },
 "nbformat": 4,
 "nbformat_minor": 5
}
