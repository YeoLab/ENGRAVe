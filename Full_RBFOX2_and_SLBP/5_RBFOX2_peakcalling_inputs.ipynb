{
 "cells": [
  {
   "cell_type": "code",
   "execution_count": 12,
   "id": "c8c7f1b1-1ac1-4e48-86a3-c87fde969671",
   "metadata": {},
   "outputs": [],
   "source": [
    "import pandas as pd\n",
    "from glob import glob\n",
    "import json\n",
    "from copy import copy"
   ]
  },
  {
   "cell_type": "markdown",
   "id": "d682cd90-7829-451b-9530-ad86625c0217",
   "metadata": {},
   "source": [
    "# Load Metadata"
   ]
  },
  {
   "cell_type": "code",
   "execution_count": 13,
   "id": "c2135e86-10f7-4ef4-aa27-425050fbc069",
   "metadata": {},
   "outputs": [
    {
     "data": {
      "text/plain": [
       "{'Hugo-A1': 'FOX2-APOBEC1_R1',\n",
       " 'Hugo-A2': 'FOX2-APOBEC1_R2',\n",
       " 'Hugo-A3': 'FOX2-APOBEC1_R3',\n",
       " 'Hugo-B2': 'FOX2-p0078_R1',\n",
       " 'Hugo-B3': 'FOX2-P0078_R2',\n",
       " 'Hugo-B4': 'FOX2-P0078_R3',\n",
       " 'Hugo-B5': 'FOX2-8e_R1',\n",
       " 'Hugo-B6': 'FOX2-8e_R2',\n",
       " 'Hugo-B7': 'FOX2-8e_R3',\n",
       " 'Hugo-D4': 'APOBEC1_alone_R1',\n",
       " 'Hugo-D5': 'APOBEC1_alone_R2',\n",
       " 'Hugo-D6': 'APOBEC1_alone_R3',\n",
       " 'Hugo-D7': '8e_alone_R1',\n",
       " 'Hugo-D8': '8e_alone_R2',\n",
       " 'Hugo-E1': '8e_alone_R3',\n",
       " 'Hugo-E2': 'p0078_alone_R1',\n",
       " 'Hugo-E3': 'p0078_alone_R2',\n",
       " 'Hugo-E4': 'p0078_alone_R3',\n",
       " 'Hugo-E5': 'MinA_alone_R1',\n",
       " 'Hugo-E6': 'MinA_alone_R2',\n",
       " 'Hugo-E7': 'MinA_alone_R3',\n",
       " 'Hugo-E8': 'FOX2-MinA_R1',\n",
       " 'Hugo-F1': 'FOX2-MinA_R2',\n",
       " 'Hugo-F2': 'FOX2-MinA_R3'}"
      ]
     },
     "execution_count": 13,
     "metadata": {},
     "output_type": "execute_result"
    }
   ],
   "source": [
    "sample_info_df = pd.read_excel('../FullRBPsWithEnzymes/Hugo_Samples_IDs.xlsx')\n",
    "sample_info_df = sample_info_df.dropna()\n",
    "\n",
    "id_to_label = {}\n",
    "\n",
    "for r in sample_info_df.iterrows():\n",
    "    r = r[1]\n",
    "    \n",
    "    label = r.Construct\n",
    "    sample_id = r.Sample.replace('_', '-')\n",
    "    \n",
    "    if 'SLBP' not in label and 'RPS2' not in label:\n",
    "        id_to_label[sample_id] = label\n",
    "id_to_label"
   ]
  },
  {
   "cell_type": "code",
   "execution_count": 14,
   "id": "8026f176-248a-4cdd-b447-87709b3aaec5",
   "metadata": {},
   "outputs": [
    {
     "data": {
      "text/plain": [
       "24"
      ]
     },
     "execution_count": 14,
     "metadata": {},
     "output_type": "execute_result"
    }
   ],
   "source": [
    "len(id_to_label)"
   ]
  },
  {
   "cell_type": "markdown",
   "id": "70eb1ba5-789f-472b-8a98-064888a436ea",
   "metadata": {},
   "source": [
    "# Load JSON template to fill in "
   ]
  },
  {
   "cell_type": "code",
   "execution_count": 15,
   "id": "e4021872-c3fb-4e9d-9fb1-397e3cd55f1b",
   "metadata": {
    "scrolled": true,
    "tags": []
   },
   "outputs": [
    {
     "data": {
      "text/plain": [
       "['/projects/ps-yeolab4/ekofman/Hugo/RBFOX2_sailor_outs/Hugo-E6Aligned.sortedByCoord.out.bam.combined.readfiltered.formatted.varfiltered.snpfiltered.ranked.bed',\n",
       " '/projects/ps-yeolab4/ekofman/Hugo/RBFOX2_sailor_outs/Hugo-A2Aligned.sortedByCoord.out.bam.combined.readfiltered.formatted.varfiltered.snpfiltered.ranked.bed',\n",
       " '/projects/ps-yeolab4/ekofman/Hugo/RBFOX2_sailor_outs/Hugo-B6Aligned.sortedByCoord.out.bam.combined.readfiltered.formatted.varfiltered.snpfiltered.ranked.bed',\n",
       " '/projects/ps-yeolab4/ekofman/Hugo/RBFOX2_sailor_outs/Hugo-F2Aligned.sortedByCoord.out.bam.combined.readfiltered.formatted.varfiltered.snpfiltered.ranked.bed',\n",
       " '/projects/ps-yeolab4/ekofman/Hugo/RBFOX2_sailor_outs/Hugo-E4Aligned.sortedByCoord.out.bam.combined.readfiltered.formatted.varfiltered.snpfiltered.ranked.bed',\n",
       " '/projects/ps-yeolab4/ekofman/Hugo/RBFOX2_sailor_outs/Hugo-B4Aligned.sortedByCoord.out.bam.combined.readfiltered.formatted.varfiltered.snpfiltered.ranked.bed',\n",
       " '/projects/ps-yeolab4/ekofman/Hugo/RBFOX2_sailor_outs/Hugo-D5Aligned.sortedByCoord.out.bam.combined.readfiltered.formatted.varfiltered.snpfiltered.ranked.bed',\n",
       " '/projects/ps-yeolab4/ekofman/Hugo/RBFOX2_sailor_outs/Hugo-E2Aligned.sortedByCoord.out.bam.combined.readfiltered.formatted.varfiltered.snpfiltered.ranked.bed',\n",
       " '/projects/ps-yeolab4/ekofman/Hugo/RBFOX2_sailor_outs/Hugo-D8Aligned.sortedByCoord.out.bam.combined.readfiltered.formatted.varfiltered.snpfiltered.ranked.bed',\n",
       " '/projects/ps-yeolab4/ekofman/Hugo/RBFOX2_sailor_outs/Hugo-B2Aligned.sortedByCoord.out.bam.combined.readfiltered.formatted.varfiltered.snpfiltered.ranked.bed',\n",
       " '/projects/ps-yeolab4/ekofman/Hugo/RBFOX2_sailor_outs/Hugo-D7Aligned.sortedByCoord.out.bam.combined.readfiltered.formatted.varfiltered.snpfiltered.ranked.bed',\n",
       " '/projects/ps-yeolab4/ekofman/Hugo/RBFOX2_sailor_outs/Hugo-B3Aligned.sortedByCoord.out.bam.combined.readfiltered.formatted.varfiltered.snpfiltered.ranked.bed',\n",
       " '/projects/ps-yeolab4/ekofman/Hugo/RBFOX2_sailor_outs/Hugo-E3Aligned.sortedByCoord.out.bam.combined.readfiltered.formatted.varfiltered.snpfiltered.ranked.bed',\n",
       " '/projects/ps-yeolab4/ekofman/Hugo/RBFOX2_sailor_outs/Hugo-D4Aligned.sortedByCoord.out.bam.combined.readfiltered.formatted.varfiltered.snpfiltered.ranked.bed',\n",
       " '/projects/ps-yeolab4/ekofman/Hugo/RBFOX2_sailor_outs/Hugo-E1Aligned.sortedByCoord.out.bam.combined.readfiltered.formatted.varfiltered.snpfiltered.ranked.bed',\n",
       " '/projects/ps-yeolab4/ekofman/Hugo/RBFOX2_sailor_outs/Hugo-D6Aligned.sortedByCoord.out.bam.combined.readfiltered.formatted.varfiltered.snpfiltered.ranked.bed',\n",
       " '/projects/ps-yeolab4/ekofman/Hugo/RBFOX2_sailor_outs/Hugo-B7Aligned.sortedByCoord.out.bam.combined.readfiltered.formatted.varfiltered.snpfiltered.ranked.bed',\n",
       " '/projects/ps-yeolab4/ekofman/Hugo/RBFOX2_sailor_outs/Hugo-A3Aligned.sortedByCoord.out.bam.combined.readfiltered.formatted.varfiltered.snpfiltered.ranked.bed',\n",
       " '/projects/ps-yeolab4/ekofman/Hugo/RBFOX2_sailor_outs/Hugo-E7Aligned.sortedByCoord.out.bam.combined.readfiltered.formatted.varfiltered.snpfiltered.ranked.bed',\n",
       " '/projects/ps-yeolab4/ekofman/Hugo/RBFOX2_sailor_outs/Hugo-F1Aligned.sortedByCoord.out.bam.combined.readfiltered.formatted.varfiltered.snpfiltered.ranked.bed',\n",
       " '/projects/ps-yeolab4/ekofman/Hugo/RBFOX2_sailor_outs/Hugo-B5Aligned.sortedByCoord.out.bam.combined.readfiltered.formatted.varfiltered.snpfiltered.ranked.bed',\n",
       " '/projects/ps-yeolab4/ekofman/Hugo/RBFOX2_sailor_outs/Hugo-E8Aligned.sortedByCoord.out.bam.combined.readfiltered.formatted.varfiltered.snpfiltered.ranked.bed',\n",
       " '/projects/ps-yeolab4/ekofman/Hugo/RBFOX2_sailor_outs/Hugo-A1Aligned.sortedByCoord.out.bam.combined.readfiltered.formatted.varfiltered.snpfiltered.ranked.bed',\n",
       " '/projects/ps-yeolab4/ekofman/Hugo/RBFOX2_sailor_outs/Hugo-E5Aligned.sortedByCoord.out.bam.combined.readfiltered.formatted.varfiltered.snpfiltered.ranked.bed']"
      ]
     },
     "execution_count": 15,
     "metadata": {},
     "output_type": "execute_result"
    }
   ],
   "source": [
    "glob('/projects/ps-yeolab4/ekofman/Hugo/RBFOX2_sailor_outs/*.bed')"
   ]
  },
  {
   "cell_type": "code",
   "execution_count": 16,
   "id": "00564cf0-620e-485e-b85d-622146bafd44",
   "metadata": {},
   "outputs": [
    {
     "name": "stdout",
     "output_type": "stream",
     "text": [
      "set()\n",
      "set()\n",
      "'Hugo-A7'\n",
      "'Hugo-C6'\n",
      "'Hugo-C4'\n",
      "'Hugo-B1'\n",
      "'Hugo-C4'\n",
      "'Hugo-B1'\n",
      "'Hugo-C6'\n",
      "'Hugo-A7'\n",
      "'Hugo-C6'\n",
      "'Hugo-B1'\n",
      "'Hugo-C4'\n",
      "'Hugo-A7'\n"
     ]
    }
   ],
   "source": [
    "from glob import glob\n",
    "from collections import defaultdict\n",
    "\n",
    "label_to_sailor_outfile_ct = defaultdict(lambda:{})\n",
    "\n",
    "# sailor edits\n",
    "sailor_outs_ct = glob('/projects/ps-yeolab4/ekofman/Hugo/RBFOX2_sailor_outs/*.bed')\n",
    "# bams and bw\n",
    "fwd_bw_ct = glob('/projects/ps-yeolab4/ekofman/Hugo/RBFOX2_sailor_outs/8_bw_and_bam/*fwd*.bw')\n",
    "rev_bw_ct = glob('/projects/ps-yeolab4/ekofman/Hugo/RBFOX2_sailor_outs/8_bw_and_bam/*rev*.bw')\n",
    "final_bam_ct =  glob('/projects/ps-yeolab4/ekofman/Hugo/RBFOX2_sailor_outs/8_bw_and_bam/*sorted.bam')\n",
    "\n",
    "labels_present = []\n",
    "for f in sailor_outs_ct:\n",
    "    sample_id = f.split('/')[-1].split('Aligned')[0]\n",
    "    try:\n",
    "        label = id_to_label[sample_id]\n",
    "        labels_present.append(label)\n",
    "        label_to_sailor_outfile_ct[label]['sites_file'] = f\n",
    "    except Exception as e:\n",
    "        print(e)\n",
    "    \n",
    "print(set(labels_present).difference(set(id_to_label.values())))\n",
    "print(set(id_to_label.values()).difference(labels_present))\n",
    "\n",
    "for f in fwd_bw_ct:\n",
    "    sample_id = f.split('/')[-1].split('Aligned')[0]\n",
    "    try:\n",
    "        label = id_to_label[sample_id]\n",
    "        labels_present.append(label)\n",
    "        label_to_sailor_outfile_ct[label]['fwd_bw'] = f\n",
    "    except Exception as e:\n",
    "        print(e)\n",
    "    \n",
    "for f in rev_bw_ct:\n",
    "    sample_id = f.split('/')[-1].split('Aligned')[0]\n",
    "    try:\n",
    "        label = id_to_label[sample_id]\n",
    "        labels_present.append(label)\n",
    "        label_to_sailor_outfile_ct[label]['rev_bw'] = f\n",
    "    except Exception as e:\n",
    "        print(e)\n",
    "        \n",
    "for f in final_bam_ct:\n",
    "    sample_id = f.split('/')[-1].split('Aligned')[0]\n",
    "    try:\n",
    "        label = id_to_label[sample_id]\n",
    "        labels_present.append(label)\n",
    "        label_to_sailor_outfile_ct[label]['final_bam'] = f\n",
    "    except Exception as e:\n",
    "        print(e)"
   ]
  },
  {
   "cell_type": "code",
   "execution_count": 17,
   "id": "21328ffc-baec-4122-a30f-8adf7fe28b39",
   "metadata": {},
   "outputs": [
    {
     "name": "stdout",
     "output_type": "stream",
     "text": [
      "FOX2-APOBEC1_R1\n",
      "FOX2-APOBEC1_R2\n",
      "FOX2-APOBEC1_R3\n",
      "FOX2-p0078_R1\n",
      "FOX2-P0078_R2\n",
      "FOX2-P0078_R3\n",
      "FOX2-8e_R1\n",
      "FOX2-8e_R2\n",
      "FOX2-8e_R3\n",
      "APOBEC1_alone_R1\n",
      "APOBEC1_alone_R2\n",
      "APOBEC1_alone_R3\n",
      "8e_alone_R1\n",
      "8e_alone_R2\n",
      "8e_alone_R3\n",
      "p0078_alone_R1\n",
      "p0078_alone_R2\n",
      "p0078_alone_R3\n",
      "MinA_alone_R1\n",
      "MinA_alone_R2\n",
      "MinA_alone_R3\n",
      "FOX2-MinA_R1\n",
      "FOX2-MinA_R2\n",
      "FOX2-MinA_R3\n"
     ]
    }
   ],
   "source": [
    "with open('4_SLBP_peakcalling_inputs/peakcalling_inputs_template.json', 'r') as f:\n",
    "    json_template_ct = json.load(f)\n",
    "    \n",
    "json_template_ct['output_folder'] = '/projects/ps-yeolab3/ekofman/Hugo/Full_RBFOX2_and_SLBP/4.12_RBFOX2_peakcalling_outputs_ct/'\n",
    "json_template_ct['fdr_threshold'] = 0.1\n",
    "json_template_ct['max_merge_dist'] = 15\n",
    "json_template_ct['edit_type'] = 'ct'\n",
    "json_template_ct\n",
    "\n",
    "label_to_json_ct = {}\n",
    "label_to_json_path_ct = {}\n",
    "for label in id_to_label.values():\n",
    "    print(label)\n",
    "\n",
    "    json_for_sample_ct = copy(json_template_ct)\n",
    "    json_for_sample_ct['label'] = label\n",
    "    json_for_sample_ct['stamp_sites_file'] = label_to_sailor_outfile_ct.get(label).get('sites_file')\n",
    "    json_for_sample_ct['forward_bw'] = label_to_sailor_outfile_ct.get(label).get('fwd_bw')\n",
    "    json_for_sample_ct['reverse_bw'] = label_to_sailor_outfile_ct.get(label).get('rev_bw')\n",
    "    json_for_sample_ct['bam'] = label_to_sailor_outfile_ct.get(label).get('final_bam')\n",
    "    label_to_json_ct[label] = json_for_sample_ct\n",
    "    \n",
    "    json_path = '4_RBFOX2_peakcalling_inputs/CT_{}_peakcalling.json'.format(label)\n",
    "    label_to_json_path_ct[label] = json_path\n",
    "    \n",
    "    with open(json_path, 'w') as f:\n",
    "        json.dump(json_for_sample_ct, f)"
   ]
  },
  {
   "cell_type": "markdown",
   "id": "027f7552-84e5-4b94-8518-86beb4ede015",
   "metadata": {},
   "source": [
    "# AI"
   ]
  },
  {
   "cell_type": "code",
   "execution_count": 18,
   "id": "51ec86f0-86b9-47f2-bbaf-e60291afbddb",
   "metadata": {},
   "outputs": [
    {
     "name": "stdout",
     "output_type": "stream",
     "text": [
      "set()\n",
      "set()\n",
      "'Hugo-F7'\n",
      "'Hugo-A6'\n",
      "'Hugo-A5'\n",
      "'Hugo-C3'\n",
      "'Hugo-A8'\n",
      "'Hugo-D3'\n",
      "'Hugo-F8'\n",
      "'Hugo-B1'\n",
      "'Hugo-A8'\n",
      "'Hugo-C3'\n",
      "'Hugo-F8'\n",
      "'Hugo-B1'\n",
      "'Hugo-D3'\n",
      "'Hugo-F7'\n",
      "'Hugo-A5'\n",
      "'Hugo-A6'\n",
      "'Hugo-A8'\n",
      "'Hugo-C3'\n",
      "'Hugo-A6'\n",
      "'Hugo-A5'\n",
      "'Hugo-F8'\n",
      "'Hugo-F7'\n",
      "'Hugo-B1'\n",
      "'Hugo-D3'\n"
     ]
    }
   ],
   "source": [
    "from glob import glob\n",
    "from collections import defaultdict\n",
    "\n",
    "label_to_sailor_outfile_ai = defaultdict(lambda:{})\n",
    "\n",
    "# sailor edits\n",
    "sailor_outs_ai = glob('/projects/ps-yeolab4/ekofman/Hugo/RBFOX2_sailor_outs_ai/*.bed')\n",
    "# bams and bw\n",
    "fwd_bw_ai = glob('/projects/ps-yeolab4/ekofman/Hugo/RBFOX2_sailor_outs_ai/8_bw_and_bam/*fwd*.bw')\n",
    "rev_bw_ai = glob('/projects/ps-yeolab4/ekofman/Hugo/RBFOX2_sailor_outs_ai/8_bw_and_bam/*rev*.bw')\n",
    "final_bam_ai =  glob('/projects/ps-yeolab4/ekofman/Hugo/RBFOX2_sailor_outs_ai/8_bw_and_bam/*sorted.bam')\n",
    "\n",
    "labels_present = []\n",
    "for f in sailor_outs_ai:\n",
    "    sample_id = f.split('/')[-1].split('Aligned')[0]\n",
    "    try:\n",
    "        label = id_to_label[sample_id]\n",
    "        labels_present.append(label)\n",
    "        label_to_sailor_outfile_ai[label]['sites_file'] = f\n",
    "    except Exception as e:\n",
    "        print(e)\n",
    "    \n",
    "print(set(labels_present).difference(set(id_to_label.values())))\n",
    "print(set(id_to_label.values()).difference(labels_present))\n",
    "\n",
    "for f in fwd_bw_ai:\n",
    "    sample_id = f.split('/')[-1].split('Aligned')[0]\n",
    "    try:\n",
    "        label = id_to_label[sample_id]\n",
    "        labels_present.append(label)\n",
    "        label_to_sailor_outfile_ai[label]['fwd_bw'] = f\n",
    "    except Exception as e:\n",
    "        print(e)\n",
    "    \n",
    "for f in rev_bw_ai:\n",
    "    sample_id = f.split('/')[-1].split('Aligned')[0]\n",
    "    try:\n",
    "        label = id_to_label[sample_id]\n",
    "        labels_present.append(label)\n",
    "        label_to_sailor_outfile_ai[label]['rev_bw'] = f\n",
    "    except Exception as e:\n",
    "        print(e)\n",
    "        \n",
    "for f in final_bam_ai:\n",
    "    sample_id = f.split('/')[-1].split('Aligned')[0]\n",
    "    try:\n",
    "        label = id_to_label[sample_id]\n",
    "        labels_present.append(label)\n",
    "        label_to_sailor_outfile_ai[label]['final_bam'] = f\n",
    "    except Exception as e:\n",
    "        print(e)"
   ]
  },
  {
   "cell_type": "code",
   "execution_count": 19,
   "id": "eb08986e-da93-4192-8a2b-baa975faccf2",
   "metadata": {},
   "outputs": [
    {
     "data": {
      "text/plain": [
       "24"
      ]
     },
     "execution_count": 19,
     "metadata": {},
     "output_type": "execute_result"
    }
   ],
   "source": [
    "len(label_to_sailor_outfile_ai)"
   ]
  },
  {
   "cell_type": "code",
   "execution_count": 20,
   "id": "3d915f2e-eeb1-4cfd-8dc0-9e3af5f6f73d",
   "metadata": {},
   "outputs": [
    {
     "name": "stdout",
     "output_type": "stream",
     "text": [
      "FOX2-APOBEC1_R1\n",
      "FOX2-APOBEC1_R2\n",
      "FOX2-APOBEC1_R3\n",
      "FOX2-p0078_R1\n",
      "FOX2-P0078_R2\n",
      "FOX2-P0078_R3\n",
      "FOX2-8e_R1\n",
      "FOX2-8e_R2\n",
      "FOX2-8e_R3\n",
      "APOBEC1_alone_R1\n",
      "APOBEC1_alone_R2\n",
      "APOBEC1_alone_R3\n",
      "8e_alone_R1\n",
      "8e_alone_R2\n",
      "8e_alone_R3\n",
      "p0078_alone_R1\n",
      "p0078_alone_R2\n",
      "p0078_alone_R3\n",
      "MinA_alone_R1\n",
      "MinA_alone_R2\n",
      "MinA_alone_R3\n",
      "FOX2-MinA_R1\n",
      "FOX2-MinA_R2\n",
      "FOX2-MinA_R3\n"
     ]
    }
   ],
   "source": [
    "with open('4_SLBP_peakcalling_inputs/peakcalling_inputs_template.json', 'r') as f:\n",
    "    json_template_ai = json.load(f)\n",
    "    \n",
    "json_template_ai['output_folder'] = '/projects/ps-yeolab3/ekofman/Hugo/Full_RBFOX2_and_SLBP/4.22_RBFOX2_peakcalling_outputs_ai/'\n",
    "json_template_ai['fdr_threshold'] = 0.1\n",
    "json_template_ai['max_merge_dist'] = 15\n",
    "json_template_ai['edit_type'] = 'ai'\n",
    "json_template_ai\n",
    "\n",
    "label_to_json_ai = {}\n",
    "label_to_json_path_ai = {}\n",
    "for label in id_to_label.values():\n",
    "    print(label)\n",
    "\n",
    "    json_for_sample_ai = copy(json_template_ai)\n",
    "    json_for_sample_ai['label'] = label\n",
    "    json_for_sample_ai['stamp_sites_file'] = label_to_sailor_outfile_ai.get(label).get('sites_file')\n",
    "    json_for_sample_ai['forward_bw'] = label_to_sailor_outfile_ai.get(label).get('fwd_bw')\n",
    "    json_for_sample_ai['reverse_bw'] = label_to_sailor_outfile_ai.get(label).get('rev_bw')\n",
    "    json_for_sample_ai['bam'] = label_to_sailor_outfile_ai.get(label).get('final_bam')\n",
    "    label_to_json_ai[label] = json_for_sample_ai\n",
    "    \n",
    "    json_path = '4_RBFOX2_peakcalling_inputs/AI_{}_peakcalling.json'.format(label)\n",
    "    label_to_json_path_ai[label] = json_path\n",
    "    \n",
    "    with open(json_path, 'w') as f:\n",
    "        json.dump(json_for_sample_ai, f)"
   ]
  },
  {
   "cell_type": "markdown",
   "id": "9bec2d9f-96ae-4b44-820b-5e2e55f35991",
   "metadata": {},
   "source": [
    "# qsub commands"
   ]
  },
  {
   "cell_type": "code",
   "execution_count": 41,
   "id": "f87ac608-77fd-41d9-ba8f-a681ff0731fb",
   "metadata": {},
   "outputs": [
    {
     "name": "stdout",
     "output_type": "stream",
     "text": [
      "[]\n"
     ]
    }
   ],
   "source": [
    "import os\n",
    "\n",
    "header_lines = [\n",
    "    '#!/bin/bash', \n",
    "    '#PBS -N peaks_ct_rbfox',\n",
    "    '#PBS -o peaks_ct_rbfox.sh.out',\n",
    "    '#PBS -e peaks_ct_rbfox.sh.err',\n",
    "    '#PBS -V',\n",
    "    '#PBS -l walltime=10:00:00',\n",
    "    '#PBS -l nodes=1:ppn=1',\n",
    "    '#PBS -A yeo-group',\n",
    "    '#PBS -q home',\n",
    "    '#PBS -t 1-{}'.format(len(label_to_json_path_ct)),\n",
    "    '',\n",
    "    '# Go to the directory from which the script was called',\n",
    "    'cd /projects/ps-yeolab3/ekofman/Hugo/Full_RBFOX2_and_SLBP/4.3_peakcalling_logs',\n",
    "    ''\n",
    "]\n",
    "\n",
    "command = 'cmd[{}]=\"module load stamp; snakemake --rerun-incomplete \\\n",
    "--profile /projects/ps-yeolab3/ekofman/sc_STAMP_pipeline/STAMP/profiles/tscc_peakcaller_temp/ \\\n",
    "--configfile /projects/ps-yeolab3/ekofman/Hugo/Full_RBFOX2_and_SLBP/{};\"'\n",
    "\n",
    "commands = []\n",
    "\n",
    "for i, f in enumerate(label_to_json_path_ct.values()):\n",
    "    sample_id = f.split('/CT_')[-1].split('_peak')[0]\n",
    "    output_folder = label_to_json_ct.get(sample_id).get('output_folder')\n",
    "    overall_path = '{}/peak_calling/{}_merged_sorted_peaks.fdr_0.1.d_15.scored.tsv'.format(output_folder, sample_id)\n",
    "    if not os.path.exists(overall_path):\n",
    "        commands.append(command.format(i+1, f))\n",
    "\n",
    "lines = header_lines + commands + [\"eval ${cmd[$PBS_ARRAYID]}\"]\n",
    "print(commands)\n",
    "with open('4_RBFOX2_peakcalling_inputs/qsub_rbfox2_ct.sh', 'w') as f:\n",
    "    for l in lines:\n",
    "        f.write('{}\\n'.format(l))"
   ]
  },
  {
   "cell_type": "code",
   "execution_count": 42,
   "id": "b4be11ca-2be5-4406-928c-cb163e54c15a",
   "metadata": {},
   "outputs": [
    {
     "name": "stdout",
     "output_type": "stream",
     "text": [
      "['cmd[13]=\"module load stamp; snakemake --rerun-incomplete --profile /projects/ps-yeolab3/ekofman/sc_STAMP_pipeline/STAMP/profiles/tscc_peakcaller_temp/ --configfile /projects/ps-yeolab3/ekofman/Hugo/Full_RBFOX2_and_SLBP/4_RBFOX2_peakcalling_inputs/AI_8e_alone_R1_peakcalling.json;\"']\n"
     ]
    }
   ],
   "source": [
    "header_lines = [\n",
    "    '#!/bin/bash', \n",
    "    '#PBS -N peaks_ai_rbfox',\n",
    "    '#PBS -o peaks_ai_rbfox.sh.out',\n",
    "    '#PBS -e peaks_ai_rbfox.sh.err',\n",
    "    '#PBS -V',\n",
    "    '#PBS -l walltime=10:00:00',\n",
    "    '#PBS -l nodes=1:ppn=1',\n",
    "    '#PBS -A yeo-group',\n",
    "    '#PBS -q home',\n",
    "    '#PBS -t 1-{}'.format(len(label_to_json_path_ai)),\n",
    "    '',\n",
    "    '# Go to the directory from which the script was called',\n",
    "    'cd /projects/ps-yeolab3/ekofman/Hugo/Full_RBFOX2_and_SLBP/4.3_peakcalling_logs',\n",
    "    ''\n",
    "]\n",
    "\n",
    "command = 'cmd[{}]=\"module load stamp; snakemake --rerun-incomplete \\\n",
    "--profile /projects/ps-yeolab3/ekofman/sc_STAMP_pipeline/STAMP/profiles/tscc_peakcaller_temp/ \\\n",
    "--configfile /projects/ps-yeolab3/ekofman/Hugo/Full_RBFOX2_and_SLBP/{};\"'\n",
    "\n",
    "commands = []\n",
    "\n",
    "for i, f in enumerate(label_to_json_path_ai.values()):\n",
    "    sample_id = f.split('/AI_')[-1].split('_peak')[0]\n",
    "    output_folder = label_to_json_ai.get(sample_id).get('output_folder')\n",
    "    overall_path = '{}/peak_calling/{}_merged_sorted_peaks.fdr_0.1.d_15.scored.tsv'.format(output_folder, sample_id)\n",
    "    if not os.path.exists(overall_path):\n",
    "        commands.append(command.format(i+1, f))\n",
    "\n",
    "lines = header_lines + commands + [\"eval ${cmd[$PBS_ARRAYID]}\"]\n",
    "\n",
    "print(commands)\n",
    "\n",
    "with open('4_RBFOX2_peakcalling_inputs/qsub_rbfox2_ai.sh', 'w') as f:\n",
    "    for l in lines:\n",
    "        f.write('{}\\n'.format(l))"
   ]
  },
  {
   "cell_type": "code",
   "execution_count": null,
   "id": "fde77bd9-7839-4506-b662-b2ed6e4c30df",
   "metadata": {},
   "outputs": [],
   "source": []
  }
 ],
 "metadata": {
  "kernelspec": {
   "display_name": "new_anaconda3",
   "language": "python",
   "name": "new_anaconda3"
  },
  "language_info": {
   "codemirror_mode": {
    "name": "ipython",
    "version": 3
   },
   "file_extension": ".py",
   "mimetype": "text/x-python",
   "name": "python",
   "nbconvert_exporter": "python",
   "pygments_lexer": "ipython3",
   "version": "3.7.4"
  }
 },
 "nbformat": 4,
 "nbformat_minor": 5
}
