{
 "cells": [
  {
   "cell_type": "code",
   "execution_count": 1,
   "id": "af4b0f26-0a4c-44d5-a9ed-53a09912d094",
   "metadata": {},
   "outputs": [],
   "source": [
    "import pandas as pd\n",
    "import pybedtools\n",
    "from glob import glob"
   ]
  },
  {
   "cell_type": "code",
   "execution_count": 2,
   "id": "c8fab463-9933-4b0e-b357-6ad02b5bc9a4",
   "metadata": {},
   "outputs": [
    {
     "name": "stdout",
     "output_type": "stream",
     "text": [
      "6.2_peaks_with_sequences/RBFOX2_ai_FOX2-8e_cleaned.tsv\n",
      "\t 7861\n",
      "6.2_peaks_with_sequences/RBFOX2_ct_FOX2-APOBEC1_cleaned.tsv\n",
      "\t 1888\n",
      "6.2_peaks_with_sequences/RBFOX2_both_FOX2-P0078_cleaned.tsv\n",
      "\t 3996\n",
      "6.2_peaks_with_sequences/RBFOX2_ai_FOX2-MinA_cleaned.tsv\n",
      "\t 735\n"
     ]
    }
   ],
   "source": [
    "peaks_dict = {}\n",
    "bedtools_dict = {}\n",
    "for f in glob('6.2_peaks_with_sequences/*cleaned.tsv'):\n",
    "    print(f)\n",
    "    \n",
    "    peaks = pd.read_csv(f, sep='\\t')\n",
    "    peaks.columns =['label', 'sequence']\n",
    "    \n",
    "    peaks['symbol'] = [l.split('|')[1].split(':')[0] for l in peaks.label]\n",
    "    peaks['enzyme'] = enzyme = f.split('FOX2-')[1].split('_cleaned')[0]\n",
    "    peaks['chrom'] = [l.split(':')[0] for l in peaks.label]\n",
    "    peaks['start'] = [l.split(':')[1].split('-')[0] for l in peaks.label]\n",
    "    peaks['end'] = [l.split(':')[1].split('-')[1].split('(')[0] for l in peaks.label]\n",
    "    peaks['strand'] = [l.split('(')[1].split(')')[0] for l in peaks.label]\n",
    "\n",
    "    print('\\t', len(peaks))\n",
    "    peaks = peaks[['chrom', 'start', 'end', 'enzyme', 'symbol', 'strand', 'label', 'sequence']]\n",
    "    peaks_dict[enzyme] = peaks\n",
    "    \n",
    "    bedtools_dict[enzyme] = pybedtools.BedTool.from_dataframe(peaks)"
   ]
  },
  {
   "cell_type": "markdown",
   "id": "52f24d18-f20a-4f8d-acf9-5e38fa3462b7",
   "metadata": {},
   "source": [
    "bedtools_dict# Merge all to get union"
   ]
  },
  {
   "cell_type": "code",
   "execution_count": 3,
   "id": "588cedb3-c109-4842-ba66-b0eeb4fa9344",
   "metadata": {},
   "outputs": [
    {
     "data": {
      "text/plain": [
       "{'8e': <BedTool(/scratch/ekofman/31426606.tscc-mgr7.local/pybedtools.36h518ft.tmp)>,\n",
       " 'APOBEC1': <BedTool(/scratch/ekofman/31426606.tscc-mgr7.local/pybedtools.gmgc2ys1.tmp)>,\n",
       " 'P0078': <BedTool(/scratch/ekofman/31426606.tscc-mgr7.local/pybedtools.ff54dxz0.tmp)>,\n",
       " 'MinA': <BedTool(/scratch/ekofman/31426606.tscc-mgr7.local/pybedtools.rqx_6_lv.tmp)>}"
      ]
     },
     "execution_count": 3,
     "metadata": {},
     "output_type": "execute_result"
    }
   ],
   "source": [
    "bedtools_dict"
   ]
  },
  {
   "cell_type": "code",
   "execution_count": 4,
   "id": "70cc5f68-a8cb-466b-850d-5e6f987e9ce4",
   "metadata": {},
   "outputs": [],
   "source": [
    "unioned = bedtools_dict.get('8e').cat(bedtools_dict.get(\"APOBEC1\"), postmerge=False)\\\n",
    ".cat(bedtools_dict.get('P0078'), postmerge=False).cat(bedtools_dict.get('MinA'), postmerge=False)\n",
    "len(unioned)\n",
    "\n",
    "unioned = unioned.sort().merge(c=(4, 5, 6), o=('distinct', 'distinct', 'distinct'))\n",
    "bedtools_dict['unioned'] = unioned"
   ]
  },
  {
   "cell_type": "code",
   "execution_count": 6,
   "id": "f6fe7c04-c1c1-49a9-bb01-bc2a9cb851eb",
   "metadata": {},
   "outputs": [
    {
     "data": {
      "text/plain": [
       "<BedTool(9.4_unioned_peaks/unioned_cleaned_peaks.bed)>"
      ]
     },
     "execution_count": 6,
     "metadata": {},
     "output_type": "execute_result"
    }
   ],
   "source": [
    "bedtools_dict.get('unioned').saveas('9.4_unioned_peaks/unioned_cleaned_peaks.bed')"
   ]
  },
  {
   "cell_type": "markdown",
   "id": "708e6941-1e2e-4993-ab01-1b5fed694bf0",
   "metadata": {},
   "source": [
    "# Load eCLIP"
   ]
  },
  {
   "cell_type": "code",
   "execution_count": 99,
   "id": "9af5e0c2-74db-46aa-bf0e-5194fb070c4d",
   "metadata": {},
   "outputs": [
    {
     "name": "stdout",
     "output_type": "stream",
     "text": [
      "/projects/ps-yeolab3/ekofman/Hugo/Full_RBFOX2_and_SLBP/reference/hg38_eCLIPs/RBFOX2_CTerminus_1.bed.annotated\n",
      "\tBefore filter: 263128\n",
      "\tAfter filter:  16870\n",
      "/projects/ps-yeolab3/ekofman/Hugo/Full_RBFOX2_and_SLBP/reference/hg38_eCLIPs/RBFOX2_CTerminus_1.bed.annotated\n",
      "\tBefore filter: 263128\n",
      "\tAfter filter:  12785\n",
      "/projects/ps-yeolab3/ekofman/Hugo/Full_RBFOX2_and_SLBP/reference/hg38_eCLIPs/RBFOX2_CTerminus_1.bed.annotated\n",
      "\tBefore filter: 263128\n",
      "\tAfter filter:  9864\n",
      "/projects/ps-yeolab3/ekofman/Hugo/Full_RBFOX2_and_SLBP/reference/hg38_eCLIPs/RBFOX2_CTerminus_1.bed.annotated\n",
      "\tBefore filter: 263128\n",
      "\tAfter filter:  7584\n",
      "/projects/ps-yeolab3/ekofman/Hugo/Full_RBFOX2_and_SLBP/reference/hg38_eCLIPs/RBFOX2_CTerminus_1.bed.annotated\n",
      "\tBefore filter: 263128\n",
      "\tAfter filter:  5670\n"
     ]
    }
   ],
   "source": [
    "import pybedtools\n",
    "\n",
    "def load_eclip(filepath, l2fc_threshold=2, l10p_threshold=3):\n",
    "    print(filepath)\n",
    "    eclip_df = pd.read_csv(filepath,\n",
    "                               sep='\\t'\n",
    "                               )\n",
    "\n",
    "    total_columns = len(eclip_df.columns)\n",
    "    \n",
    "    eclip_df.columns=['chrom', 'start', 'end', 'l2fc', 'l10p', 'strand'] + [i for i in range(total_columns - 6)]\n",
    "    print('\\tBefore filter:', len(eclip_df))\n",
    "\n",
    "    if 'region' in eclip_df.columns:\n",
    "        eclip_df = eclip_df[~eclip_df.region.isin([\n",
    "            'distintron500', 'proxintron500', 'distnoncoding_intron500', 'proxnoncoding_intron500', 'intergenic'\n",
    "        ])]\n",
    "        \n",
    "    eclip_df = eclip_df[(eclip_df.l2fc > l2fc_threshold) & (eclip_df.l10p > l10p_threshold)]\n",
    "    \n",
    "    eclip_df['chrom'] = [i.split('chr')[1] for i in eclip_df.chrom]\n",
    "    print('\\tAfter filter: ', len(eclip_df))\n",
    "    eclip_bed = pybedtools.BedTool.from_dataframe(eclip_df)\n",
    "\n",
    "    return eclip_bed\n",
    "\n",
    "\n",
    "overall_path = '/projects/ps-yeolab3/ekofman/Hugo/Full_RBFOX2_and_SLBP/reference/hg38_eCLIPs'\n",
    "rbfox2_native_path = '{}/RBFOX2_native_eclip.bed.annotated'.format(overall_path)\n",
    "rbfox2_cterm_path = '{}/RBFOX2_CTerminus_1.bed.annotated'.format(overall_path)\n",
    "\n",
    "eclips = {\n",
    "    #'rbfox2_native': load_eclip(rbfox2_native_path),\n",
    "    #'rbfox2_cterm_l2fc_1': load_eclip(rbfox2_cterm_path, l2fc_threshold=1),\n",
    "    'rbfox2_cterm_l2fc_2': load_eclip(rbfox2_cterm_path, l2fc_threshold=2),\n",
    "    #'rbfox2_cterm_l2fc_3': load_eclip(rbfox2_cterm_path, l2fc_threshold=3),\n",
    "    'rbfox2_cterm_l2fc_4': load_eclip(rbfox2_cterm_path, l2fc_threshold=4),\n",
    "    #'rbfox2_cterm_l2fc_5': load_eclip(rbfox2_cterm_path, l2fc_threshold=5),\n",
    "    'rbfox2_cterm_l2fc_6': load_eclip(rbfox2_cterm_path, l2fc_threshold=6),\n",
    "    #'rbfox2_cterm_l2fc_7': load_eclip(rbfox2_cterm_path, l2fc_threshold=7),\n",
    "    'rbfox2_cterm_l2fc_8': load_eclip(rbfox2_cterm_path, l2fc_threshold=8),\n",
    "    #'rbfox2_cterm_l2fc_9': load_eclip(rbfox2_cterm_path, l2fc_threshold=9),\n",
    "    'rbfox2_cterm_l2fc_10': load_eclip(rbfox2_cterm_path, l2fc_threshold=10)\n",
    "}"
   ]
  },
  {
   "cell_type": "code",
   "execution_count": 109,
   "id": "dd955a19-dd3e-4438-a4d0-5d657632d0f0",
   "metadata": {},
   "outputs": [],
   "source": [
    "def calculate_bed_intersection_fraction(stamp_bed, eclip_bed):\n",
    "    intersection = stamp_bed.intersect(eclip_bed, s=True, u=True)\n",
    "    fraction_overlapped_by_eclip = len(intersection)/len(stamp_bed)\n",
    "    return fraction_overlapped_by_eclip\n",
    "\n",
    "def calculate_fraction_of_eclip_overlapped(stamp_bed, eclip_bed):\n",
    "    intersection = stamp_bed.intersect(eclip_bed, s=True, u=True)\n",
    "    fraction_overlapped_by_stamp = len(intersection)/len(eclip_bed)\n",
    "    return fraction_overlapped_by_stamp"
   ]
  },
  {
   "cell_type": "code",
   "execution_count": 124,
   "id": "e5e73c5b-a2cb-42e8-8daa-e6ed588b5d3d",
   "metadata": {},
   "outputs": [
    {
     "name": "stdout",
     "output_type": "stream",
     "text": [
      "8e\n",
      "rbfox2_cterm_l2fc_2\n",
      "rbfox2_cterm_l2fc_4\n",
      "rbfox2_cterm_l2fc_6\n",
      "rbfox2_cterm_l2fc_8\n",
      "rbfox2_cterm_l2fc_10\n",
      "APOBEC1\n",
      "rbfox2_cterm_l2fc_2\n",
      "rbfox2_cterm_l2fc_4\n",
      "rbfox2_cterm_l2fc_6\n",
      "rbfox2_cterm_l2fc_8\n",
      "rbfox2_cterm_l2fc_10\n",
      "P0078\n",
      "rbfox2_cterm_l2fc_2\n",
      "rbfox2_cterm_l2fc_4\n",
      "rbfox2_cterm_l2fc_6\n",
      "rbfox2_cterm_l2fc_8\n",
      "rbfox2_cterm_l2fc_10\n",
      "MinA\n",
      "rbfox2_cterm_l2fc_2\n",
      "rbfox2_cterm_l2fc_4\n",
      "rbfox2_cterm_l2fc_6\n",
      "rbfox2_cterm_l2fc_8\n",
      "rbfox2_cterm_l2fc_10\n",
      "unioned\n",
      "rbfox2_cterm_l2fc_2\n",
      "rbfox2_cterm_l2fc_4\n",
      "rbfox2_cterm_l2fc_6\n",
      "rbfox2_cterm_l2fc_8\n",
      "rbfox2_cterm_l2fc_10\n"
     ]
    }
   ],
   "source": [
    "from collections import defaultdict\n",
    "\n",
    "rbfox2_actual_eclip_intersection_values = defaultdict(lambda:{})\n",
    "rbfox2_actual_stamp_intersection_values = defaultdict(lambda:{})\n",
    "\n",
    "for rbfox2_label, rbfox2_bed in bedtools_dict.items():\n",
    "    print(rbfox2_label)\n",
    "    for eclip_comparison in eclips.keys():                                                                                             \n",
    "        print(eclip_comparison)\n",
    "        eclip_file = eclips.get(eclip_comparison)\n",
    "                                                                    \n",
    "        rbfox2_actual_eclip_intersection_values[rbfox2_label]\\\n",
    "        [eclip_comparison] = calculate_fraction_of_eclip_overlapped(rbfox2_bed, \n",
    "                                                                    eclip_file)\n",
    "        \n",
    "        rbfox2_actual_stamp_intersection_values[rbfox2_label]\\\n",
    "        [eclip_comparison] = calculate_bed_intersection_fraction(rbfox2_bed, \n",
    "                                                                    eclip_file)"
   ]
  },
  {
   "cell_type": "code",
   "execution_count": 125,
   "id": "50ceeba7-5121-4cc5-9156-e87742128959",
   "metadata": {},
   "outputs": [],
   "source": [
    "df_of_eclip_vals = pd.DataFrame(rbfox2_actual_eclip_intersection_values)"
   ]
  },
  {
   "cell_type": "code",
   "execution_count": 126,
   "id": "d36f15ea-ecdd-4d16-be3d-179e69176a68",
   "metadata": {},
   "outputs": [],
   "source": [
    "df_of_stamp_vals = pd.DataFrame(rbfox2_actual_stamp_intersection_values)"
   ]
  },
  {
   "cell_type": "code",
   "execution_count": 130,
   "id": "3566ef0f-62b2-4e25-a6de-5f46e9e880fc",
   "metadata": {},
   "outputs": [
    {
     "data": {
      "image/png": "[encoded data removed]",
      "text/plain": [
       "<Figure size 432x288 with 1 Axes>"
      ]
     },
     "metadata": {
      "needs_background": "light"
     },
     "output_type": "display_data"
    }
   ],
   "source": [
    "from matplotlib import pyplot as plt \n",
    "\n",
    "df_of_eclip_vals.plot(kind='barh')\n",
    "plt.title(\"Fraction of RBFOX2-fusion eCLIP peaks overlapped by STAMP peaks\")\n",
    "plt.xlabel(\"Fraction\")\n",
    "plt.ylabel(\"eCLIP peaks at various l2fc thresholds\")\n",
    "plt.savefig(\"images/svgs/eCLIP_peaks_overlapped_by_stamp_indiv_vs_union.svg\", bbox_inches='tight')"
   ]
  },
  {
   "cell_type": "code",
   "execution_count": 128,
   "id": "db58eee2-a394-4547-aeda-c74839086c2b",
   "metadata": {},
   "outputs": [
    {
     "data": {
      "text/plain": [
       "<AxesSubplot:>"
      ]
     },
     "execution_count": 128,
     "metadata": {},
     "output_type": "execute_result"
    },
    {
     "data": {
      "image/png": "[encoded data removed]",
      "text/plain": [
       "<Figure size 432x288 with 1 Axes>"
      ]
     },
     "metadata": {
      "needs_background": "light"
     },
     "output_type": "display_data"
    }
   ],
   "source": [
    "df_of_stamp_vals.plot(kind='barh')"
   ]
  },
  {
   "cell_type": "code",
   "execution_count": null,
   "id": "4edea68a-9bbb-4224-b455-ea701a8085ad",
   "metadata": {},
   "outputs": [],
   "source": []
  }
 ],
 "metadata": {
  "kernelspec": {
   "display_name": "new_anaconda3",
   "language": "python",
   "name": "new_anaconda3"
  },
  "language_info": {
   "codemirror_mode": {
    "name": "ipython",
    "version": 3
   },
   "file_extension": ".py",
   "mimetype": "text/x-python",
   "name": "python",
   "nbconvert_exporter": "python",
   "pygments_lexer": "ipython3",
   "version": "3.7.4"
  }
 },
 "nbformat": 4,
 "nbformat_minor": 5
}
